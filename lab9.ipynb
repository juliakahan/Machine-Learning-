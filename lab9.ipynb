{
  "nbformat": 4,
  "nbformat_minor": 0,
  "metadata": {
    "colab": {
      "name": "NeuralNetworks-lab1.ipynb",
      "provenance": [],
      "authorship_tag": "ABX9TyN9q0IHWAGDf7ce9SUwR/6p",
      "include_colab_link": true
    },
    "kernelspec": {
      "name": "python3",
      "display_name": "Python 3"
    },
    "language_info": {
      "name": "python"
    }
  },
  "cells": [
    {
      "cell_type": "markdown",
      "metadata": {
        "id": "view-in-github",
        "colab_type": "text"
      },
      "source": [
        "<a href=\"https://colab.research.google.com/github/juliakahan/Machine-Learning-/blob/main/lab9.ipynb\" target=\"_parent\"><img src=\"https://colab.research.google.com/assets/colab-badge.svg\" alt=\"Open In Colab\"/></a>"
      ]
    },
    {
      "cell_type": "code",
      "execution_count": 2,
      "metadata": {
        "id": "jG1E1iU7Jwvj"
      },
      "outputs": [],
      "source": [
        "from sklearn.datasets import load_iris \n",
        "import pandas as pd\n",
        "import numpy as np\n",
        "from sklearn.model_selection import train_test_split\n",
        "iris = load_iris(as_frame=True)"
      ]
    },
    {
      "cell_type": "code",
      "source": [
        "pd.concat([iris.data, iris.target], axis=1).plot.scatter( x='petal length (cm)',\n",
        "y='petal width (cm)',\n",
        "c='target',\n",
        "colormap='viridis' )"
      ],
      "metadata": {
        "colab": {
          "base_uri": "https://localhost:8080/",
          "height": 275
        },
        "id": "-rZaRjEaKOxf",
        "outputId": "1345ce75-6acb-49c8-ef7a-877d6a1d580e"
      },
      "execution_count": 3,
      "outputs": [
        {
          "output_type": "execute_result",
          "data": {
            "text/plain": [
              "<matplotlib.axes._subplots.AxesSubplot at 0x7f08fa2c3510>"
            ]
          },
          "metadata": {},
          "execution_count": 3
        },
        {
          "output_type": "display_data",
          "data": {
            "text/plain": [
              "<Figure size 432x288 with 2 Axes>"
            ],
            "image/png": "[encoded data removed]"
          },
          "metadata": {
            "needs_background": "light"
          }
        }
      ]
    },
    {
      "cell_type": "code",
      "source": [
        "X = iris.data[[\"petal length (cm)\", \"petal width (cm)\"]]\n",
        "y = iris.target"
      ],
      "metadata": {
        "id": "D5S0ZhnrKaBX"
      },
      "execution_count": 4,
      "outputs": []
    },
    {
      "cell_type": "code",
      "source": [
        "X"
      ],
      "metadata": {
        "colab": {
          "base_uri": "https://localhost:8080/",
          "height": 419
        },
        "id": "fN08A_jlKaID",
        "outputId": "b1baacb9-c012-4bad-f6f0-037a40d8fa7a"
      },
      "execution_count": 5,
      "outputs": [
        {
          "output_type": "execute_result",
          "data": {
            "text/plain": [
              "     petal length (cm)  petal width (cm)\n",
              "0                  1.4               0.2\n",
              "1                  1.4               0.2\n",
              "2                  1.3               0.2\n",
              "3                  1.5               0.2\n",
              "4                  1.4               0.2\n",
              "..                 ...               ...\n",
              "145                5.2               2.3\n",
              "146                5.0               1.9\n",
              "147                5.2               2.0\n",
              "148                5.4               2.3\n",
              "149                5.1               1.8\n",
              "\n",
              "[150 rows x 2 columns]"
            ],
            "text/html": [
              "\n",
              "  <div id=\"df-62082b01-7204-42c1-8e4e-71af6da4d888\">\n",
              "    <div class=\"colab-df-container\">\n",
              "      <div>\n",
              "<style scoped>\n",
              "    .dataframe tbody tr th:only-of-type {\n",
              "        vertical-align: middle;\n",
              "    }\n",
              "\n",
              "    .dataframe tbody tr th {\n",
              "        vertical-align: top;\n",
              "    }\n",
              "\n",
              "    .dataframe thead th {\n",
              "        text-align: right;\n",
              "    }\n",
              "</style>\n",
              "<table border=\"1\" class=\"dataframe\">\n",
              "  <thead>\n",
              "    <tr style=\"text-align: right;\">\n",
              "      <th></th>\n",
              "      <th>petal length (cm)</th>\n",
              "      <th>petal width (cm)</th>\n",
              "    </tr>\n",
              "  </thead>\n",
              "  <tbody>\n",
              "    <tr>\n",
              "      <th>0</th>\n",
              "      <td>1.4</td>\n",
              "      <td>0.2</td>\n",
              "    </tr>\n",
              "    <tr>\n",
              "      <th>1</th>\n",
              "      <td>1.4</td>\n",
              "      <td>0.2</td>\n",
              "    </tr>\n",
              "    <tr>\n",
              "      <th>2</th>\n",
              "      <td>1.3</td>\n",
              "      <td>0.2</td>\n",
              "    </tr>\n",
              "    <tr>\n",
              "      <th>3</th>\n",
              "      <td>1.5</td>\n",
              "      <td>0.2</td>\n",
              "    </tr>\n",
              "    <tr>\n",
              "      <th>4</th>\n",
              "      <td>1.4</td>\n",
              "      <td>0.2</td>\n",
              "    </tr>\n",
              "    <tr>\n",
              "      <th>...</th>\n",
              "      <td>...</td>\n",
              "      <td>...</td>\n",
              "    </tr>\n",
              "    <tr>\n",
              "      <th>145</th>\n",
              "      <td>5.2</td>\n",
              "      <td>2.3</td>\n",
              "    </tr>\n",
              "    <tr>\n",
              "      <th>146</th>\n",
              "      <td>5.0</td>\n",
              "      <td>1.9</td>\n",
              "    </tr>\n",
              "    <tr>\n",
              "      <th>147</th>\n",
              "      <td>5.2</td>\n",
              "      <td>2.0</td>\n",
              "    </tr>\n",
              "    <tr>\n",
              "      <th>148</th>\n",
              "      <td>5.4</td>\n",
              "      <td>2.3</td>\n",
              "    </tr>\n",
              "    <tr>\n",
              "      <th>149</th>\n",
              "      <td>5.1</td>\n",
              "      <td>1.8</td>\n",
              "    </tr>\n",
              "  </tbody>\n",
              "</table>\n",
              "<p>150 rows × 2 columns</p>\n",
              "</div>\n",
              "      <button class=\"colab-df-convert\" onclick=\"convertToInteractive('df-62082b01-7204-42c1-8e4e-71af6da4d888')\"\n",
              "              title=\"Convert this dataframe to an interactive table.\"\n",
              "              style=\"display:none;\">\n",
              "        \n",
              "  <svg xmlns=\"http://www.w3.org/2000/svg\" height=\"24px\"viewBox=\"0 0 24 24\"\n",
              "       width=\"24px\">\n",
              "    <path d=\"M0 0h24v24H0V0z\" fill=\"none\"/>\n",
              "    <path d=\"M18.56 5.44l.94 2.06.94-2.06 2.06-.94-2.06-.94-.94-2.06-.94 2.06-2.06.94zm-11 1L8.5 8.5l.94-2.06 2.06-.94-2.06-.94L8.5 2.5l-.94 2.06-2.06.94zm10 10l.94 2.06.94-2.06 2.06-.94-2.06-.94-.94-2.06-.94 2.06-2.06.94z\"/><path d=\"M17.41 7.96l-1.37-1.37c-.4-.4-.92-.59-1.43-.59-.52 0-1.04.2-1.43.59L10.3 9.45l-7.72 7.72c-.78.78-.78 2.05 0 2.83L4 21.41c.39.39.9.59 1.41.59.51 0 1.02-.2 1.41-.59l7.78-7.78 2.81-2.81c.8-.78.8-2.07 0-2.86zM5.41 20L4 18.59l7.72-7.72 1.47 1.35L5.41 20z\"/>\n",
              "  </svg>\n",
              "      </button>\n",
              "      \n",
              "  <style>\n",
              "    .colab-df-container {\n",
              "      display:flex;\n",
              "      flex-wrap:wrap;\n",
              "      gap: 12px;\n",
              "    }\n",
              "\n",
              "    .colab-df-convert {\n",
              "      background-color: #E8F0FE;\n",
              "      border: none;\n",
              "      border-radius: 50%;\n",
              "      cursor: pointer;\n",
              "      display: none;\n",
              "      fill: #1967D2;\n",
              "      height: 32px;\n",
              "      padding: 0 0 0 0;\n",
              "      width: 32px;\n",
              "    }\n",
              "\n",
              "    .colab-df-convert:hover {\n",
              "      background-color: #E2EBFA;\n",
              "      box-shadow: 0px 1px 2px rgba(60, 64, 67, 0.3), 0px 1px 3px 1px rgba(60, 64, 67, 0.15);\n",
              "      fill: #174EA6;\n",
              "    }\n",
              "\n",
              "    [theme=dark] .colab-df-convert {\n",
              "      background-color: #3B4455;\n",
              "      fill: #D2E3FC;\n",
              "    }\n",
              "\n",
              "    [theme=dark] .colab-df-convert:hover {\n",
              "      background-color: #434B5C;\n",
              "      box-shadow: 0px 1px 3px 1px rgba(0, 0, 0, 0.15);\n",
              "      filter: drop-shadow(0px 1px 2px rgba(0, 0, 0, 0.3));\n",
              "      fill: #FFFFFF;\n",
              "    }\n",
              "  </style>\n",
              "\n",
              "      <script>\n",
              "        const buttonEl =\n",
              "          document.querySelector('#df-62082b01-7204-42c1-8e4e-71af6da4d888 button.colab-df-convert');\n",
              "        buttonEl.style.display =\n",
              "          google.colab.kernel.accessAllowed ? 'block' : 'none';\n",
              "\n",
              "        async function convertToInteractive(key) {\n",
              "          const element = document.querySelector('#df-62082b01-7204-42c1-8e4e-71af6da4d888');\n",
              "          const dataTable =\n",
              "            await google.colab.kernel.invokeFunction('convertToInteractive',\n",
              "                                                     [key], {});\n",
              "          if (!dataTable) return;\n",
              "\n",
              "          const docLinkHtml = 'Like what you see? Visit the ' +\n",
              "            '<a target=\"_blank\" href=https://colab.research.google.com/notebooks/data_table.ipynb>data table notebook</a>'\n",
              "            + ' to learn more about interactive tables.';\n",
              "          element.innerHTML = '';\n",
              "          dataTable['output_type'] = 'display_data';\n",
              "          await google.colab.output.renderOutput(dataTable, element);\n",
              "          const docLink = document.createElement('div');\n",
              "          docLink.innerHTML = docLinkHtml;\n",
              "          element.appendChild(docLink);\n",
              "        }\n",
              "      </script>\n",
              "    </div>\n",
              "  </div>\n",
              "  "
            ]
          },
          "metadata": {},
          "execution_count": 5
        }
      ]
    },
    {
      "cell_type": "code",
      "source": [
        "y"
      ],
      "metadata": {
        "colab": {
          "base_uri": "https://localhost:8080/"
        },
        "id": "MIwzrhKIKaLC",
        "outputId": "e1fbb668-4da8-445e-b072-a54edaf7063e"
      },
      "execution_count": 6,
      "outputs": [
        {
          "output_type": "execute_result",
          "data": {
            "text/plain": [
              "0      0\n",
              "1      0\n",
              "2      0\n",
              "3      0\n",
              "4      0\n",
              "      ..\n",
              "145    2\n",
              "146    2\n",
              "147    2\n",
              "148    2\n",
              "149    2\n",
              "Name: target, Length: 150, dtype: int64"
            ]
          },
          "metadata": {},
          "execution_count": 6
        }
      ]
    },
    {
      "cell_type": "code",
      "source": [
        "X_train, X_test, y_train, y_test = train_test_split(iris.data, iris.target, test_size=0.2)"
      ],
      "metadata": {
        "id": "bHFaBbV0KaN6"
      },
      "execution_count": 7,
      "outputs": []
    },
    {
      "cell_type": "code",
      "source": [
        "#gatunków (0, 1, 2) zbuduj perceptron, przeprowadź jego uczenie i oceń jego dokładność dla zbioru uczącego i dla zbioru testowego."
      ],
      "metadata": {
        "id": "Ym2nwP6iKaRG"
      },
      "execution_count": 8,
      "outputs": []
    },
    {
      "cell_type": "code",
      "source": [
        "from sklearn.linear_model import Perceptron\n",
        "#0\n",
        "per_clf_0 = Perceptron()\n",
        "y_train_0 = (y_train == 0).astype(int)\n",
        "y_test_0 = (y_test == 0).astype(int)\n",
        "per_clf_0.fit(X_train,y_train_0)\n",
        "y_train_0_pred = per_clf_0.predict(X_train)\n",
        "y_test_0_pred = per_clf_0.predict(X_test)\n",
        "\n",
        "#1\n",
        "per_clf_1 = Perceptron()\n",
        "y_train_1 = (y_train == 1).astype(int)\n",
        "y_test_1 = (y_test == 1).astype(int)\n",
        "per_clf_1.fit(X_train,y_train_1)\n",
        "y_train_1_pred = per_clf_1.predict(X_train)\n",
        "y_test_1_pred = per_clf_1.predict(X_test)\n",
        "\n",
        "#2\n",
        "per_clf_2 = Perceptron()\n",
        "y_train_2 = (y_train == 2 ).astype(int)\n",
        "y_test_2 = (y_test == 2).astype(int)\n",
        "per_clf_2.fit(X_train,y_train_2)\n",
        "y_train_2_pred = per_clf_2.predict(X_train)\n",
        "y_test_2_pred = per_clf_2.predict(X_test)\n"
      ],
      "metadata": {
        "id": "F7_lpD_wN2vA"
      },
      "execution_count": 9,
      "outputs": []
    },
    {
      "cell_type": "code",
      "source": [
        "#accuracy scores\n",
        "from sklearn.metrics import accuracy_score\n",
        "a_tr_0 = accuracy_score(y_train_0, y_train_0_pred)\n",
        "a_te_0 = accuracy_score(y_test_0, y_test_0_pred)\n",
        "\n",
        "a_tr_1 = accuracy_score(y_train_1, y_train_1_pred)\n",
        "a_te_1 = accuracy_score(y_test_1, y_test_1_pred)\n",
        "\n",
        "a_tr_2 = accuracy_score(y_train_2, y_train_2_pred)\n",
        "a_te_2 = accuracy_score(y_test_2, y_test_2_pred)\n",
        "\n",
        "per_acc = [(a_tr_0, a_te_0), (a_tr_1, a_te_1), (a_tr_2, a_te_2)]\n",
        "per_acc"
      ],
      "metadata": {
        "colab": {
          "base_uri": "https://localhost:8080/"
        },
        "id": "ljP7wv_HN2-7",
        "outputId": "f2e768a8-9860-4d0f-a5d6-80a2cc8f954c"
      },
      "execution_count": 10,
      "outputs": [
        {
          "output_type": "execute_result",
          "data": {
            "text/plain": [
              "[(1.0, 1.0), (0.6583333333333333, 0.6), (0.975, 0.9666666666666667)]"
            ]
          },
          "metadata": {},
          "execution_count": 10
        }
      ]
    },
    {
      "cell_type": "code",
      "source": [
        "per_wght = []\n",
        "perceptron_clfs = [per_clf_0, per_clf_1, per_clf_2]\n",
        "\n",
        "for perceptron in perceptron_clfs:\n",
        "  w_0 = perceptron.intercept_[0]\n",
        "  w_1 = perceptron.coef_[0][0]\n",
        "  w_2 = perceptron.coef_[0][1]\n",
        "\n",
        "  per_wght.append((w_0, w_1, w_2))\n",
        "\n",
        "per_wght"
      ],
      "metadata": {
        "colab": {
          "base_uri": "https://localhost:8080/"
        },
        "id": "FAxCuaTGSyXO",
        "outputId": "48a8bf42-2e37-46db-e16e-44a0917ace2f"
      },
      "execution_count": 11,
      "outputs": [
        {
          "output_type": "execute_result",
          "data": {
            "text/plain": [
              "[(1.0, 2.7, 4.9),\n",
              " (20.0, 19.29999999999996, -40.60000000000006),\n",
              " (-24.0, -40.40000000000003, -26.399999999999974)]"
            ]
          },
          "metadata": {},
          "execution_count": 11
        }
      ]
    },
    {
      "cell_type": "code",
      "source": [
        "import pickle\n",
        "with open('per_acc.pkl', 'wb') as fp:\n",
        "    pickle.dump(per_acc, fp)"
      ],
      "metadata": {
        "id": "4CWLZqByk1QR"
      },
      "execution_count": 12,
      "outputs": []
    },
    {
      "cell_type": "code",
      "source": [
        "import pickle\n",
        "with open('per_wght.pkl', 'wb') as fp:\n",
        "    pickle.dump(per_wght, fp)"
      ],
      "metadata": {
        "id": "RCkhBi2jk1aH"
      },
      "execution_count": 13,
      "outputs": []
    },
    {
      "cell_type": "code",
      "source": [
        "X = np.array([[0, 0], \n",
        "    [0, 1],\n",
        "    [1, 0],\n",
        "    [1, 1]])\n",
        "y = np.array([0,\n",
        "    1,\n",
        "    1,\n",
        "    0])"
      ],
      "metadata": {
        "id": "DpFivUB_lohg"
      },
      "execution_count": 14,
      "outputs": []
    },
    {
      "cell_type": "code",
      "source": [
        "\n",
        "\n"
      ],
      "metadata": {
        "id": "VenZY9IRlom_"
      },
      "execution_count": 14,
      "outputs": []
    },
    {
      "cell_type": "code",
      "source": [
        "per_clf_xor = Perceptron()\n",
        "per_clf_xor.fit(X, y)\n",
        "y_pred = per_clf_xor.predict(X)\n",
        "print(accuracy_score(y, y_pred))\n",
        "\n",
        "w_0_xor = per_clf_xor.intercept_\n",
        "w_1_xor = per_clf_xor.coef_\n",
        "print(w_0, w_1)"
      ],
      "metadata": {
        "colab": {
          "base_uri": "https://localhost:8080/"
        },
        "id": "lLISKI6Slosi",
        "outputId": "27e13392-f235-4407-d669-5f5f297f29ff"
      },
      "execution_count": 15,
      "outputs": [
        {
          "output_type": "stream",
          "name": "stdout",
          "text": [
            "0.5\n",
            "-24.0 -40.40000000000003\n"
          ]
        }
      ]
    },
    {
      "cell_type": "code",
      "source": [
        "import keras\n",
        "import tensorflow as tf\n",
        "model = tf.keras.models.Sequential()\n",
        "model.add(keras.layers.Dense(2, activation = \"tanh\", use_bias = True, input_dim = 2))\n",
        "model.add(keras.layers.Dense(1, activation = \"sigmoid\", use_bias = True))\n",
        "\n",
        "model.compile(loss=\"binary_crossentropy\", optimizer='sgd')"
      ],
      "metadata": {
        "id": "b3r1JUT0lo7S"
      },
      "execution_count": 16,
      "outputs": []
    },
    {
      "cell_type": "code",
      "source": [
        "history = model.fit(X, y, epochs=100, verbose=False) \n",
        "print(history.history['loss'])"
      ],
      "metadata": {
        "colab": {
          "base_uri": "https://localhost:8080/"
        },
        "id": "yPedn1vKrKqq",
        "outputId": "d9ba7f3d-ce3c-46c5-9fe2-221691919503"
      },
      "execution_count": 17,
      "outputs": [
        {
          "output_type": "stream",
          "name": "stdout",
          "text": [
            "[0.7034916877746582, 0.7025628089904785, 0.7016465663909912, 0.700742781162262, 0.6998512148857117, 0.6989717483520508, 0.6981042623519897, 0.6972485780715942, 0.6964045763015747, 0.6955720782279968, 0.6947509050369263, 0.6939408779144287, 0.6931420564651489, 0.6923540234565735, 0.6915768384933472, 0.6908100843429565, 0.6900539994239807, 0.6893080472946167, 0.6885722875595093, 0.6878466606140137, 0.6871308088302612, 0.686424732208252, 0.6857283115386963, 0.6850412487983704, 0.684363603591919, 0.6836950778961182, 0.6830356121063232, 0.6823850274085999, 0.6817432641983032, 0.681110143661499, 0.6804854869842529, 0.6798692941665649, 0.679261326789856, 0.6786615252494812, 0.6780697107315063, 0.6774857640266418, 0.6769095659255981, 0.6763410568237305, 0.6757800579071045, 0.6752264499664307, 0.6746801137924194, 0.6741409301757812, 0.6736088991165161, 0.6730837821960449, 0.6725654602050781, 0.6720539331436157, 0.6715489625930786, 0.6710505485534668, 0.670558512210846, 0.6700727939605713, 0.6695932149887085, 0.6691198348999023, 0.6686525344848633, 0.6681909561157227, 0.66773521900177, 0.6672852039337158, 0.6668407917022705, 0.6664019823074341, 0.6659685373306274, 0.6655404567718506, 0.665117621421814, 0.6647000312805176, 0.6642875075340271, 0.6638798713684082, 0.6634772419929504, 0.6630794405937195, 0.6626863479614258, 0.6622979640960693, 0.6619141101837158, 0.6615347862243652, 0.661159873008728, 0.660789430141449, 0.660423219203949, 0.660061240196228, 0.6597033739089966, 0.6593495607376099, 0.6589998006820679, 0.658653974533081, 0.6583120226860046, 0.6579738855361938, 0.6576395034790039, 0.6573086977005005, 0.6569815874099731, 0.6566579341888428, 0.6563379168510437, 0.6560211777687073, 0.6557079553604126, 0.655397891998291, 0.6550911664962769, 0.6547876596450806, 0.6544873118400574, 0.6541900038719177, 0.6538957357406616, 0.6536045074462891, 0.6533161401748657, 0.6530306935310364, 0.6527481079101562, 0.6524682641029358, 0.652191162109375, 0.6519167423248291]\n"
          ]
        }
      ]
    },
    {
      "cell_type": "code",
      "source": [
        "model.predict(X)"
      ],
      "metadata": {
        "colab": {
          "base_uri": "https://localhost:8080/"
        },
        "id": "7RavaKGTrdop",
        "outputId": "1cceecb3-af7d-44b5-ca93-83051e06320b"
      },
      "execution_count": 18,
      "outputs": [
        {
          "output_type": "execute_result",
          "data": {
            "text/plain": [
              "array([[0.42921072],\n",
              "       [0.46544844],\n",
              "       [0.64275575],\n",
              "       [0.56790084]], dtype=float32)"
            ]
          },
          "metadata": {},
          "execution_count": 18
        }
      ]
    },
    {
      "cell_type": "code",
      "source": [
        "#1\n",
        "model_1 = tf.keras.models.Sequential()\n",
        "model_1.add(keras.layers.Dense(2, activation = \"tanh\", use_bias = True, input_dim = 2))\n",
        "model_1.add(keras.layers.Dense(1, activation = \"sigmoid\", use_bias = True))\n",
        "\n",
        "model_1.compile(loss=\"binary_crossentropy\", optimizer='sgd')\n",
        "\n",
        "history_1 = model_1.fit(X, y, epochs=100, verbose=False) \n",
        "model_1.predict(X)"
      ],
      "metadata": {
        "colab": {
          "base_uri": "https://localhost:8080/"
        },
        "id": "oIQiLX5Jrj_2",
        "outputId": "a34ca9b1-5c06-4e98-936c-f4c645080ab8"
      },
      "execution_count": 19,
      "outputs": [
        {
          "output_type": "execute_result",
          "data": {
            "text/plain": [
              "array([[0.48616087],\n",
              "       [0.35208225],\n",
              "       [0.6931251 ],\n",
              "       [0.48931175]], dtype=float32)"
            ]
          },
          "metadata": {},
          "execution_count": 19
        }
      ]
    },
    {
      "cell_type": "code",
      "source": [
        "#2\n",
        "model_2 = tf.keras.models.Sequential()\n",
        "model_2.add(keras.layers.Dense(2, activation = \"tanh\", use_bias = True, input_dim = 2))\n",
        "model_2.add(keras.layers.Dense(1, activation = \"sigmoid\", use_bias = True))\n",
        "\n",
        "model_2.compile(loss=\"binary_crossentropy\", optimizer='sgd')\n",
        "\n",
        "history_2 = model_1.fit(X, y, epochs=100, verbose=False) \n",
        "model_2.predict(X)"
      ],
      "metadata": {
        "colab": {
          "base_uri": "https://localhost:8080/"
        },
        "id": "XDNC52O0rkGN",
        "outputId": "541c4d0b-b06d-44f8-b691-f900d20fd76a"
      },
      "execution_count": 20,
      "outputs": [
        {
          "output_type": "execute_result",
          "data": {
            "text/plain": [
              "array([[0.5       ],\n",
              "       [0.23065084],\n",
              "       [0.80395526],\n",
              "       [0.5553432 ]], dtype=float32)"
            ]
          },
          "metadata": {},
          "execution_count": 20
        }
      ]
    },
    {
      "cell_type": "code",
      "source": [
        "#3\n",
        "model_3 = tf.keras.models.Sequential()\n",
        "model_3.add(keras.layers.Dense(2, activation = \"tanh\", use_bias = True, input_dim = 2))\n",
        "model_3.add(keras.layers.Dense(1, activation = \"sigmoid\", use_bias = True))\n",
        "\n",
        "model_3.compile(loss=\"binary_crossentropy\", optimizer='sgd')\n",
        "\n",
        "history_3 = model_3.fit(X, y, epochs=100, verbose=False) \n",
        "model_3.predict(X)"
      ],
      "metadata": {
        "colab": {
          "base_uri": "https://localhost:8080/"
        },
        "id": "AHzJMrq3rkMi",
        "outputId": "e13ec9b2-7c11-4989-b060-bedb3221410e"
      },
      "execution_count": 21,
      "outputs": [
        {
          "output_type": "execute_result",
          "data": {
            "text/plain": [
              "array([[0.48177603],\n",
              "       [0.3737018 ],\n",
              "       [0.5865603 ],\n",
              "       [0.44856262]], dtype=float32)"
            ]
          },
          "metadata": {},
          "execution_count": 21
        }
      ]
    },
    {
      "cell_type": "code",
      "source": [
        "#using Adam with different values of learning_rate, different loss functions(MSE/BCE) and activation functions()\n",
        "\n",
        "## 0.01, BCE, relu\n",
        "model_4 = tf.keras.models.Sequential()\n",
        "model_4.add(keras.layers.Dense(2, activation = \"relu\", use_bias = True, input_dim = 2))\n",
        "model_4.add(keras.layers.Dense(1, activation = \"sigmoid\", use_bias = True))\n",
        "\n",
        "model_4.compile(loss=\"binary_crossentropy\", optimizer=tf.keras.optimizers.Adam(learning_rate=0.1))\n",
        "\n",
        "history_4 = model_4.fit(X, y, epochs=100, verbose=False) \n",
        "model_4.predict(X)\n"
      ],
      "metadata": {
        "colab": {
          "base_uri": "https://localhost:8080/"
        },
        "id": "QCfZb0UgtsxW",
        "outputId": "acfb0f2c-94f4-4ba4-ac19-975496e734b5"
      },
      "execution_count": 51,
      "outputs": [
        {
          "output_type": "execute_result",
          "data": {
            "text/plain": [
              "array([[0.49779588],\n",
              "       [0.49947143],\n",
              "       [0.5001184 ],\n",
              "       [0.5017939 ]], dtype=float32)"
            ]
          },
          "metadata": {},
          "execution_count": 51
        }
      ]
    },
    {
      "cell_type": "code",
      "source": [
        ""
      ],
      "metadata": {
        "id": "9yMDbZF7n52t"
      },
      "execution_count": null,
      "outputs": []
    },
    {
      "cell_type": "code",
      "source": [
        "## 0.05, MSE, RELU\n",
        "model_5 = tf.keras.models.Sequential()\n",
        "model_5.add(keras.layers.Dense(2, activation = \"relu\", use_bias = True, input_dim = 2))\n",
        "model_5.add(keras.layers.Dense(1, activation = \"sigmoid\", use_bias = True))\n",
        "\n",
        "model_5.compile(loss=\"binary_crossentropy\", optimizer=tf.keras.optimizers.Adam(learning_rate=0.05))\n",
        "\n",
        "history_5 = model_5.fit(X, y, epochs=100, verbose=False) \n",
        "model_5.predict(X)"
      ],
      "metadata": {
        "colab": {
          "base_uri": "https://localhost:8080/"
        },
        "id": "2DrelsMIts4q",
        "outputId": "6eee4cd1-6a7f-44c1-94df-acdb8574cde3"
      },
      "execution_count": 41,
      "outputs": [
        {
          "output_type": "execute_result",
          "data": {
            "text/plain": [
              "array([[0.08473492],\n",
              "       [0.9618628 ],\n",
              "       [0.96013486],\n",
              "       [0.03686774]], dtype=float32)"
            ]
          },
          "metadata": {},
          "execution_count": 41
        }
      ]
    },
    {
      "cell_type": "code",
      "source": [
        "model_6 = tf.keras.models.Sequential()\n",
        "model_6.add(keras.layers.Dense(2, activation = \"relu\", use_bias = True, input_dim = 2))\n",
        "model_6.add(keras.layers.Dense(1, activation = \"sigmoid\", use_bias = True))\n",
        "\n",
        "model_6.compile(loss=\"binary_crossentropy\", optimizer=tf.keras.optimizers.Adam(learning_rate=0.1))\n",
        "\n",
        "history_6 = model_4.fit(X, y, epochs=100, verbose=False) \n",
        "model_6.predict(X)"
      ],
      "metadata": {
        "colab": {
          "base_uri": "https://localhost:8080/"
        },
        "id": "fJYFYqfKts_U",
        "outputId": "8e13426b-26bf-4ee2-f7ff-ea422e7b8629"
      },
      "execution_count": 31,
      "outputs": [
        {
          "output_type": "execute_result",
          "data": {
            "text/plain": [
              "array([[0.5       ],\n",
              "       [0.67226744],\n",
              "       [0.64911306],\n",
              "       [0.8855128 ]], dtype=float32)"
            ]
          },
          "metadata": {},
          "execution_count": 31
        }
      ]
    },
    {
      "cell_type": "code",
      "source": [
        "while True:\n",
        "  best_model = tf.keras.models.Sequential()\n",
        "  best_model.add(keras.layers.Dense(2, activation = \"relu\", use_bias = True, input_dim = 2))\n",
        "  best_model.add(keras.layers.Dense(1, activation = \"sigmoid\", use_bias = True))\n",
        "\n",
        "  best_model.compile(loss=\"binary_crossentropy\", optimizer=tf.keras.optimizers.Adam(learning_rate=0.1))\n",
        "\n",
        "  history_4_bm = best_model.fit(X, y, epochs=100, verbose=False) \n",
        "  best_results = best_model.predict(X)\n",
        "  if best_results[0]<0.1 and best_results[1]>0.9 and best_results[2]>0.9 and best_results[0]<0.1:\n",
        "    break\n",
        " #mlp_xor_weights.pkl\n",
        "best_results\n"
      ],
      "metadata": {
        "colab": {
          "base_uri": "https://localhost:8080/"
        },
        "id": "yM7muz4Kn62p",
        "outputId": "a43f76bb-1a6b-4e8a-8e20-ccf98491b61d"
      },
      "execution_count": 55,
      "outputs": [
        {
          "output_type": "execute_result",
          "data": {
            "text/plain": [
              "array([[0.0051536 ],\n",
              "       [0.9992025 ],\n",
              "       [0.99811256],\n",
              "       [0.0051536 ]], dtype=float32)"
            ]
          },
          "metadata": {},
          "execution_count": 55
        }
      ]
    },
    {
      "cell_type": "code",
      "source": [
        "mlp_xor_weights = best_model.get_weights()\n",
        "with open('mlp_xor_weights.pkl', 'wb') as fp:\n",
        "    pickle.dump(mlp_xor_weights, fp)"
      ],
      "metadata": {
        "id": "4BdniBwYn7J3"
      },
      "execution_count": 56,
      "outputs": []
    }
  ]
}