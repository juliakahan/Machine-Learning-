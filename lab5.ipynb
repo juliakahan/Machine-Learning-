{
  "nbformat": 4,
  "nbformat_minor": 0,
  "metadata": {
    "colab": {
      "name": "lab_5.ipynb",
      "provenance": [],
      "authorship_tag": "ABX9TyOba4WjKO6phFOIXi8DO7bU",
      "include_colab_link": true
    },
    "kernelspec": {
      "name": "python3",
      "display_name": "Python 3"
    },
    "language_info": {
      "name": "python"
    }
  },
  "cells": [
    {
      "cell_type": "markdown",
      "metadata": {
        "id": "view-in-github",
        "colab_type": "text"
      },
      "source": [
        "<a href=\"https://colab.research.google.com/github/juliakahan/Machine-Learning-/blob/main/lab5.ipynb\" target=\"_parent\"><img src=\"https://colab.research.google.com/assets/colab-badge.svg\" alt=\"Open In Colab\"/></a>"
      ]
    },
    {
      "cell_type": "code",
      "execution_count": 33,
      "metadata": {
        "colab": {
          "base_uri": "https://localhost:8080/"
        },
        "id": "oeaN8np1neW6",
        "outputId": "b4d9ae5f-b791-464f-9f2a-3bfc0595168d"
      },
      "outputs": [
        {
          "output_type": "stream",
          "name": "stdout",
          "text": [
            ".. _breast_cancer_dataset:\n",
            "\n",
            "Breast cancer wisconsin (diagnostic) dataset\n",
            "--------------------------------------------\n",
            "\n",
            "**Data Set Characteristics:**\n",
            "\n",
            "    :Number of Instances: 569\n",
            "\n",
            "    :Number of Attributes: 30 numeric, predictive attributes and the class\n",
            "\n",
            "    :Attribute Information:\n",
            "        - radius (mean of distances from center to points on the perimeter)\n",
            "        - texture (standard deviation of gray-scale values)\n",
            "        - perimeter\n",
            "        - area\n",
            "        - smoothness (local variation in radius lengths)\n",
            "        - compactness (perimeter^2 / area - 1.0)\n",
            "        - concavity (severity of concave portions of the contour)\n",
            "        - concave points (number of concave portions of the contour)\n",
            "        - symmetry\n",
            "        - fractal dimension (\"coastline approximation\" - 1)\n",
            "\n",
            "        The mean, standard error, and \"worst\" or largest (mean of the three\n",
            "        worst/largest values) of these features were computed for each image,\n",
            "        resulting in 30 features.  For instance, field 0 is Mean Radius, field\n",
            "        10 is Radius SE, field 20 is Worst Radius.\n",
            "\n",
            "        - class:\n",
            "                - WDBC-Malignant\n",
            "                - WDBC-Benign\n",
            "\n",
            "    :Summary Statistics:\n",
            "\n",
            "    ===================================== ====== ======\n",
            "                                           Min    Max\n",
            "    ===================================== ====== ======\n",
            "    radius (mean):                        6.981  28.11\n",
            "    texture (mean):                       9.71   39.28\n",
            "    perimeter (mean):                     43.79  188.5\n",
            "    area (mean):                          143.5  2501.0\n",
            "    smoothness (mean):                    0.053  0.163\n",
            "    compactness (mean):                   0.019  0.345\n",
            "    concavity (mean):                     0.0    0.427\n",
            "    concave points (mean):                0.0    0.201\n",
            "    symmetry (mean):                      0.106  0.304\n",
            "    fractal dimension (mean):             0.05   0.097\n",
            "    radius (standard error):              0.112  2.873\n",
            "    texture (standard error):             0.36   4.885\n",
            "    perimeter (standard error):           0.757  21.98\n",
            "    area (standard error):                6.802  542.2\n",
            "    smoothness (standard error):          0.002  0.031\n",
            "    compactness (standard error):         0.002  0.135\n",
            "    concavity (standard error):           0.0    0.396\n",
            "    concave points (standard error):      0.0    0.053\n",
            "    symmetry (standard error):            0.008  0.079\n",
            "    fractal dimension (standard error):   0.001  0.03\n",
            "    radius (worst):                       7.93   36.04\n",
            "    texture (worst):                      12.02  49.54\n",
            "    perimeter (worst):                    50.41  251.2\n",
            "    area (worst):                         185.2  4254.0\n",
            "    smoothness (worst):                   0.071  0.223\n",
            "    compactness (worst):                  0.027  1.058\n",
            "    concavity (worst):                    0.0    1.252\n",
            "    concave points (worst):               0.0    0.291\n",
            "    symmetry (worst):                     0.156  0.664\n",
            "    fractal dimension (worst):            0.055  0.208\n",
            "    ===================================== ====== ======\n",
            "\n",
            "    :Missing Attribute Values: None\n",
            "\n",
            "    :Class Distribution: 212 - Malignant, 357 - Benign\n",
            "\n",
            "    :Creator:  Dr. William H. Wolberg, W. Nick Street, Olvi L. Mangasarian\n",
            "\n",
            "    :Donor: Nick Street\n",
            "\n",
            "    :Date: November, 1995\n",
            "\n",
            "This is a copy of UCI ML Breast Cancer Wisconsin (Diagnostic) datasets.\n",
            "https://goo.gl/U2Uwz2\n",
            "\n",
            "Features are computed from a digitized image of a fine needle\n",
            "aspirate (FNA) of a breast mass.  They describe\n",
            "characteristics of the cell nuclei present in the image.\n",
            "\n",
            "Separating plane described above was obtained using\n",
            "Multisurface Method-Tree (MSM-T) [K. P. Bennett, \"Decision Tree\n",
            "Construction Via Linear Programming.\" Proceedings of the 4th\n",
            "Midwest Artificial Intelligence and Cognitive Science Society,\n",
            "pp. 97-101, 1992], a classification method which uses linear\n",
            "programming to construct a decision tree.  Relevant features\n",
            "were selected using an exhaustive search in the space of 1-4\n",
            "features and 1-3 separating planes.\n",
            "\n",
            "The actual linear program used to obtain the separating plane\n",
            "in the 3-dimensional space is that described in:\n",
            "[K. P. Bennett and O. L. Mangasarian: \"Robust Linear\n",
            "Programming Discrimination of Two Linearly Inseparable Sets\",\n",
            "Optimization Methods and Software 1, 1992, 23-34].\n",
            "\n",
            "This database is also available through the UW CS ftp server:\n",
            "\n",
            "ftp ftp.cs.wisc.edu\n",
            "cd math-prog/cpo-dataset/machine-learn/WDBC/\n",
            "\n",
            ".. topic:: References\n",
            "\n",
            "   - W.N. Street, W.H. Wolberg and O.L. Mangasarian. Nuclear feature extraction \n",
            "     for breast tumor diagnosis. IS&T/SPIE 1993 International Symposium on \n",
            "     Electronic Imaging: Science and Technology, volume 1905, pages 861-870,\n",
            "     San Jose, CA, 1993.\n",
            "   - O.L. Mangasarian, W.N. Street and W.H. Wolberg. Breast cancer diagnosis and \n",
            "     prognosis via linear programming. Operations Research, 43(4), pages 570-577, \n",
            "     July-August 1995.\n",
            "   - W.H. Wolberg, W.N. Street, and O.L. Mangasarian. Machine learning techniques\n",
            "     to diagnose breast cancer from fine-needle aspirates. Cancer Letters 77 (1994) \n",
            "     163-171.\n"
          ]
        }
      ],
      "source": [
        "from sklearn import datasets\n",
        "data_breast_cancer = datasets.load_breast_cancer(as_frame=True) \n",
        "print(data_breast_cancer['DESCR'])"
      ]
    },
    {
      "cell_type": "code",
      "source": [
        "X_cancer = data_breast_cancer[\"data\"][[\"mean texture\", \"mean symmetry\"]]\n",
        "y_cancer = data_breast_cancer[\"target\"]\n",
        "\n",
        "X_cancer\n",
        "y_cancer"
      ],
      "metadata": {
        "colab": {
          "base_uri": "https://localhost:8080/"
        },
        "id": "RPj_aJbSnn9i",
        "outputId": "2b576a5b-dfc9-4b03-c401-7a59fa8bcac3"
      },
      "execution_count": 34,
      "outputs": [
        {
          "output_type": "execute_result",
          "data": {
            "text/plain": [
              "0      0\n",
              "1      0\n",
              "2      0\n",
              "3      0\n",
              "4      0\n",
              "      ..\n",
              "564    0\n",
              "565    0\n",
              "566    0\n",
              "567    0\n",
              "568    1\n",
              "Name: target, Length: 569, dtype: int64"
            ]
          },
          "metadata": {},
          "execution_count": 34
        }
      ]
    },
    {
      "cell_type": "code",
      "source": [
        "import numpy as np\n",
        "import pandas as pd\n",
        "size = 300\n",
        "X = np.random.rand(size)*5-2.5\n",
        "w4, w3, w2, w1, w0 = 1, 2, 1, -4, 2\n",
        "y = w4*(X**4) + w3*(X**3) + w2*(X**2) + w1*X + w0 + np.random.randn(size)*8-4 \n",
        "df = pd.DataFrame({'x': X, 'y': y})\n",
        "df.plot.scatter(x='x',y='y')"
      ],
      "metadata": {
        "colab": {
          "base_uri": "https://localhost:8080/",
          "height": 296
        },
        "id": "wlkbY8t3nqHd",
        "outputId": "e1e20804-4acc-4bdc-9ec1-861e24a6ba8e"
      },
      "execution_count": 35,
      "outputs": [
        {
          "output_type": "execute_result",
          "data": {
            "text/plain": [
              "<matplotlib.axes._subplots.AxesSubplot at 0x7fe202d47210>"
            ]
          },
          "metadata": {},
          "execution_count": 35
        },
        {
          "output_type": "display_data",
          "data": {
            "text/plain": [
              "<Figure size 432x288 with 1 Axes>"
            ],
            "image/png": "[encoded data removed]"
          },
          "metadata": {
            "needs_background": "light"
          }
        }
      ]
    },
    {
      "cell_type": "code",
      "source": [
        "from sklearn.model_selection import train_test_split\n",
        "X_cancer_train, X_cancer_test, y_cancer_train, y_cancer_test = train_test_split(X_cancer, y_cancer, test_size=0.2)"
      ],
      "metadata": {
        "id": "rUTuwaI5nw_b"
      },
      "execution_count": 36,
      "outputs": []
    },
    {
      "cell_type": "code",
      "source": [
        "from sklearn.tree import DecisionTreeClassifier\n",
        "tree_clf = DecisionTreeClassifier(max_depth=3)\n",
        "tree_clf.fit(X_cancer_train, y_cancer_train)"
      ],
      "metadata": {
        "colab": {
          "base_uri": "https://localhost:8080/"
        },
        "id": "NsQ1Fi95n0r4",
        "outputId": "73f2c7a9-ea47-48c4-da71-1e111074169b"
      },
      "execution_count": 37,
      "outputs": [
        {
          "output_type": "execute_result",
          "data": {
            "text/plain": [
              "DecisionTreeClassifier(max_depth=3)"
            ]
          },
          "metadata": {},
          "execution_count": 37
        }
      ]
    },
    {
      "cell_type": "code",
      "source": [
        "y_cancer_train_pred = tree_clf.predict(X_cancer_train)\n",
        "y_cancer_test_pred = tree_clf.predict(X_cancer_test)"
      ],
      "metadata": {
        "id": "P-kZZlZ3n0vP"
      },
      "execution_count": 38,
      "outputs": []
    },
    {
      "cell_type": "code",
      "source": [
        "from sklearn.metrics import f1_score\n",
        "from sklearn.metrics import accuracy_score\n",
        "\n",
        "y_cancer_train_f1_score = f1_score(y_cancer_train, y_cancer_train_pred)\n",
        "y_cancer_test_f1_score = f1_score(y_cancer_test, y_cancer_test_pred)\n",
        "\n",
        "cancer_train_accuracy = accuracy_score(y_cancer_train, y_cancer_train_pred)\n",
        "cancer_test_accuracy = accuracy_score(y_cancer_test, y_cancer_test_pred)\n",
        "\n",
        "print(\"f1_train: \", y_cancer_train_f1_score) \n",
        "print(\"f1_test: \", y_cancer_test_f1_score)\n",
        "\n",
        "\n",
        "print(\"accuracy_train: \", cancer_train_accuracy)\n",
        "print(\"accuracy_test: \",cancer_test_accuracy)\n",
        "\n",
        "mdc = 3"
      ],
      "metadata": {
        "colab": {
          "base_uri": "https://localhost:8080/"
        },
        "id": "Y7WW9UeFn0yM",
        "outputId": "97e473bc-96d3-4485-c428-d7e9e6e1d337"
      },
      "execution_count": 39,
      "outputs": [
        {
          "output_type": "stream",
          "name": "stdout",
          "text": [
            "f1_train:  0.8416\n",
            "f1_test:  0.8076923076923077\n",
            "accuracy_train:  0.7824175824175824\n",
            "accuracy_test:  0.7368421052631579\n"
          ]
        }
      ]
    },
    {
      "cell_type": "code",
      "source": [
        "from sklearn.tree import export_graphviz\n",
        "f = \"bc\"\n",
        "export_graphviz(\n",
        "        tree_clf,\n",
        "        out_file=f,\n",
        "        feature_names=[\"mean texture\", \"mean symmetry\"],\n",
        "        class_names=[str(num)+\", \"+name\n",
        "                     for num,name in\n",
        "                     zip(set(data_breast_cancer.target), data_breast_cancer.target_names)],\n",
        "        rounded=True,\n",
        "        filled=True)"
      ],
      "metadata": {
        "id": "7pz-c-_Qn01Z"
      },
      "execution_count": 40,
      "outputs": []
    },
    {
      "cell_type": "code",
      "source": [
        "import graphviz\n",
        "print(graphviz.render('dot', 'png', f))"
      ],
      "metadata": {
        "colab": {
          "base_uri": "https://localhost:8080/"
        },
        "id": "HRkqZdH6n04r",
        "outputId": "f0df81bd-d611-4d5e-ee0a-0f9444b10e04"
      },
      "execution_count": 41,
      "outputs": [
        {
          "output_type": "stream",
          "name": "stdout",
          "text": [
            "bc.png\n"
          ]
        }
      ]
    },
    {
      "cell_type": "code",
      "source": [
        "f1acc_tree = [mdc, y_cancer_train_f1_score, y_cancer_test_f1_score, cancer_train_accuracy, cancer_test_accuracy]\n",
        "f1acc_tree"
      ],
      "metadata": {
        "colab": {
          "base_uri": "https://localhost:8080/"
        },
        "id": "vMYKuAw2kgYT",
        "outputId": "f6891bc9-5f60-4fd7-de0e-902a998ee199"
      },
      "execution_count": 42,
      "outputs": [
        {
          "output_type": "execute_result",
          "data": {
            "text/plain": [
              "[3, 0.8416, 0.8076923076923077, 0.7824175824175824, 0.7368421052631579]"
            ]
          },
          "metadata": {},
          "execution_count": 42
        }
      ]
    },
    {
      "cell_type": "code",
      "source": [
        "import pickle\n",
        "with open('f1acc_tree.pkl', 'wb') as fp:\n",
        "    pickle.dump(f1acc_tree, fp)"
      ],
      "metadata": {
        "id": "w8DcOMJmn072"
      },
      "execution_count": 43,
      "outputs": []
    },
    {
      "cell_type": "code",
      "source": [
        "X_train, X_test, y_train, y_test = train_test_split(X, y, test_size=0.2)"
      ],
      "metadata": {
        "id": "PV4pTdIJn0-9"
      },
      "execution_count": 44,
      "outputs": []
    },
    {
      "cell_type": "code",
      "source": [
        "from sklearn.tree import DecisionTreeRegressor"
      ],
      "metadata": {
        "id": "wGTBqbg0n1CX"
      },
      "execution_count": 45,
      "outputs": []
    },
    {
      "cell_type": "code",
      "source": [
        "X_train = X_train.reshape(-1,1)\n",
        "X_test  = X_test.reshape(-1,1)"
      ],
      "metadata": {
        "id": "snrbBzAvq6dV"
      },
      "execution_count": 46,
      "outputs": []
    },
    {
      "cell_type": "code",
      "source": [
        "tree_reg = DecisionTreeRegressor(max_depth=2)\n",
        "tree_reg.fit(X_train, y_train)"
      ],
      "metadata": {
        "colab": {
          "base_uri": "https://localhost:8080/"
        },
        "id": "hgTYtIuxn1F-",
        "outputId": "fb38ea36-30e5-4aa4-bcdf-aa1135ddae8a"
      },
      "execution_count": 47,
      "outputs": [
        {
          "output_type": "execute_result",
          "data": {
            "text/plain": [
              "DecisionTreeRegressor(max_depth=2)"
            ]
          },
          "metadata": {},
          "execution_count": 47
        }
      ]
    },
    {
      "cell_type": "code",
      "source": [
        "y_train_pred = tree_reg.predict(X_train)\n",
        "y_test_pred = tree_reg.predict(X_test)"
      ],
      "metadata": {
        "id": "QWEze0-yrE0d"
      },
      "execution_count": 48,
      "outputs": []
    },
    {
      "cell_type": "code",
      "source": [
        "from sklearn.metrics import mean_squared_error\n",
        "train_mse = mean_squared_error(y_train, y_train_pred)\n",
        "print(train_mse)\n",
        "test_mse = mean_squared_error(y_test, y_test_pred)\n",
        "print(test_mse)"
      ],
      "metadata": {
        "colab": {
          "base_uri": "https://localhost:8080/"
        },
        "id": "DrLukl7UrE6i",
        "outputId": "fbecc3d3-f1aa-4d50-ddf2-774e21006b29"
      },
      "execution_count": 49,
      "outputs": [
        {
          "output_type": "stream",
          "name": "stdout",
          "text": [
            "73.41264528268081\n",
            "57.64331199180204\n"
          ]
        }
      ]
    },
    {
      "cell_type": "code",
      "source": [
        "tree_reg2 = DecisionTreeRegressor(max_depth=2)\n",
        "tree_reg2.fit(X_train, y_train)\n",
        "\n",
        "y_train_pred2 = tree_reg2.predict(X_train)\n",
        "y_test_pred2 = tree_reg2.predict(X_test)"
      ],
      "metadata": {
        "id": "VyrIJx8drFAr"
      },
      "execution_count": 50,
      "outputs": []
    },
    {
      "cell_type": "code",
      "source": [
        "tree_reg3 = DecisionTreeRegressor(max_depth=3)\n",
        "tree_reg3.fit(X_train, y_train)\n",
        "\n",
        "y_train_pred3 = tree_reg3.predict(X_train)\n",
        "y_test_pred3= tree_reg3.predict(X_test)"
      ],
      "metadata": {
        "id": "V1Ra7dXKrFHe"
      },
      "execution_count": 51,
      "outputs": []
    },
    {
      "cell_type": "code",
      "source": [
        "tree_reg4 = DecisionTreeRegressor(max_depth=4)\n",
        "tree_reg4.fit(X_train, y_train)\n",
        "\n",
        "y_train_pred4 = tree_reg4.predict(X_train)\n",
        "y_test_pred4 = tree_reg4.predict(X_test)"
      ],
      "metadata": {
        "id": "WkbDvYFPrFTH"
      },
      "execution_count": 52,
      "outputs": []
    },
    {
      "cell_type": "code",
      "source": [
        "tree_reg5 = DecisionTreeRegressor(max_depth=5)\n",
        "tree_reg5.fit(X_train, y_train)\n",
        "\n",
        "y_train_pred5 = tree_reg5.predict(X_train)\n",
        "y_test_pred5 = tree_reg5.predict(X_test)"
      ],
      "metadata": {
        "id": "vBL9onYeBITc"
      },
      "execution_count": 53,
      "outputs": []
    },
    {
      "cell_type": "code",
      "source": [
        "tree_reg6 = DecisionTreeRegressor(max_depth=6)\n",
        "tree_reg6.fit(X_train, y_train)\n",
        "\n",
        "y_train_pred6 = tree_reg6.predict(X_train)\n",
        "y_test_pred6 = tree_reg6.predict(X_test)"
      ],
      "metadata": {
        "id": "YxCXHwyYBIai"
      },
      "execution_count": 54,
      "outputs": []
    },
    {
      "cell_type": "code",
      "source": [
        "train_mse2 = mean_squared_error(y_train, y_train_pred2)\n",
        "print(train_mse)\n",
        "test_mse2 = mean_squared_error(y_test, y_test_pred2)\n",
        "print(test_mse)"
      ],
      "metadata": {
        "colab": {
          "base_uri": "https://localhost:8080/"
        },
        "id": "oyP6zARMBIhL",
        "outputId": "dc3858e6-c82e-427a-eb83-c808687c0ee9"
      },
      "execution_count": 55,
      "outputs": [
        {
          "output_type": "stream",
          "name": "stdout",
          "text": [
            "73.41264528268081\n",
            "57.64331199180204\n"
          ]
        }
      ]
    },
    {
      "cell_type": "code",
      "source": [
        "train_mse3 = mean_squared_error(y_train, y_train_pred3)\n",
        "print(train_mse3)\n",
        "test_mse3 = mean_squared_error(y_test, y_test_pred3)\n",
        "print(test_mse3)"
      ],
      "metadata": {
        "colab": {
          "base_uri": "https://localhost:8080/"
        },
        "id": "t6dDuULPCEkj",
        "outputId": "2bf98e7f-53ba-4e27-c600-40f2f5e078be"
      },
      "execution_count": 56,
      "outputs": [
        {
          "output_type": "stream",
          "name": "stdout",
          "text": [
            "63.993241129655296\n",
            "51.00369121124247\n"
          ]
        }
      ]
    },
    {
      "cell_type": "code",
      "source": [
        "train_mse4 = mean_squared_error(y_train, y_train_pred4)\n",
        "print(train_mse)\n",
        "test_mse4 = mean_squared_error(y_test, y_test_pred4)\n",
        "print(test_mse4)"
      ],
      "metadata": {
        "colab": {
          "base_uri": "https://localhost:8080/"
        },
        "id": "JJ92lk5YCMAI",
        "outputId": "6ee0d8c0-6d53-4951-8713-de55d07308bc"
      },
      "execution_count": 57,
      "outputs": [
        {
          "output_type": "stream",
          "name": "stdout",
          "text": [
            "73.41264528268081\n",
            "53.210679926213224\n"
          ]
        }
      ]
    },
    {
      "cell_type": "code",
      "source": [
        "train_mse5 = mean_squared_error(y_train, y_train_pred5)\n",
        "print(train_mse4)\n",
        "test_mse5 = mean_squared_error(y_test, y_test_pred5)\n",
        "print(test_mse5)"
      ],
      "metadata": {
        "colab": {
          "base_uri": "https://localhost:8080/"
        },
        "id": "dE9PqhyOCMMF",
        "outputId": "7d2334a6-54d7-4e43-8cc3-586e09131893"
      },
      "execution_count": 58,
      "outputs": [
        {
          "output_type": "stream",
          "name": "stdout",
          "text": [
            "58.4438678454426\n",
            "55.0699756455037\n"
          ]
        }
      ]
    },
    {
      "cell_type": "code",
      "source": [
        "train_mse6 = mean_squared_error(y_train, y_train_pred6)\n",
        "print(train_mse)\n",
        "test_mse6 = mean_squared_error(y_test, y_test_pred6)\n",
        "print(test_mse6)"
      ],
      "metadata": {
        "colab": {
          "base_uri": "https://localhost:8080/"
        },
        "id": "168ldLadCqvu",
        "outputId": "b98cab25-2da1-4fac-c7c2-2da177d8a528"
      },
      "execution_count": 59,
      "outputs": [
        {
          "output_type": "stream",
          "name": "stdout",
          "text": [
            "73.41264528268081\n",
            "56.56406770536829\n"
          ]
        }
      ]
    },
    {
      "cell_type": "code",
      "source": [
        ""
      ],
      "metadata": {
        "id": "fSpPXbi4CzDl"
      },
      "execution_count": 59,
      "outputs": []
    },
    {
      "cell_type": "code",
      "source": [
        ""
      ],
      "metadata": {
        "id": "jdgggRK_CzMd"
      },
      "execution_count": 59,
      "outputs": []
    },
    {
      "cell_type": "code",
      "source": [
        ""
      ],
      "metadata": {
        "id": "YNzv9DVECzTx"
      },
      "execution_count": 59,
      "outputs": []
    },
    {
      "cell_type": "code",
      "source": [
        ""
      ],
      "metadata": {
        "id": "4o_Z73dWCzbE"
      },
      "execution_count": 59,
      "outputs": []
    },
    {
      "cell_type": "code",
      "source": [
        ""
      ],
      "metadata": {
        "id": "I-shs4rCCzh-"
      },
      "execution_count": 59,
      "outputs": []
    }
  ]
}