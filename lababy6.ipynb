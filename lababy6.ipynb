{
  "cells": [
    {
      "cell_type": "markdown",
      "metadata": {
        "id": "view-in-github",
        "colab_type": "text"
      },
      "source": [
        "<a href=\"https://colab.research.google.com/github/juliakahan/Machine-Learning-/blob/main/lababy6.ipynb\" target=\"_parent\"><img src=\"https://colab.research.google.com/assets/colab-badge.svg\" alt=\"Open In Colab\"/></a>"
      ]
    },
    {
      "cell_type": "code",
      "execution_count": 35,
      "id": "739e692f-9c73-4814-9b55-27d9a24794f9",
      "metadata": {
        "id": "739e692f-9c73-4814-9b55-27d9a24794f9"
      },
      "outputs": [],
      "source": [
        "from sklearn import datasets\n",
        "data_breast_cancer = datasets.load_breast_cancer(as_frame=True)"
      ]
    },
    {
      "cell_type": "code",
      "execution_count": 36,
      "id": "f852b0d7-14e3-4f7c-a310-faf700312302",
      "metadata": {
        "id": "f852b0d7-14e3-4f7c-a310-faf700312302"
      },
      "outputs": [],
      "source": [
        "#using dataset breast cancer w features mean texture and mean symmetry"
      ]
    },
    {
      "cell_type": "code",
      "execution_count": 37,
      "id": "f90209b7-7dda-475b-ab1c-cbc3f26bf9ac",
      "metadata": {
        "id": "f90209b7-7dda-475b-ab1c-cbc3f26bf9ac"
      },
      "outputs": [],
      "source": [
        "#random forest should gave dramatically different results from bgging + trees"
      ]
    },
    {
      "cell_type": "code",
      "execution_count": 38,
      "id": "d952ffaa-8859-4fec-9c33-0787aac60dd7",
      "metadata": {
        "colab": {
          "base_uri": "https://localhost:8080/",
          "height": 419
        },
        "id": "d952ffaa-8859-4fec-9c33-0787aac60dd7",
        "outputId": "65d303de-4122-416d-f326-b0df01163dcb"
      },
      "outputs": [
        {
          "output_type": "execute_result",
          "data": {
            "text/plain": [
              "     mean texture  mean symmetry\n",
              "0           10.38         0.2419\n",
              "1           17.77         0.1812\n",
              "2           21.25         0.2069\n",
              "3           20.38         0.2597\n",
              "4           14.34         0.1809\n",
              "..            ...            ...\n",
              "564         22.39         0.1726\n",
              "565         28.25         0.1752\n",
              "566         28.08         0.1590\n",
              "567         29.33         0.2397\n",
              "568         24.54         0.1587\n",
              "\n",
              "[569 rows x 2 columns]"
            ],
            "text/html": [
              "\n",
              "  <div id=\"df-58db6bd5-925b-4657-8a86-5d287d54433e\">\n",
              "    <div class=\"colab-df-container\">\n",
              "      <div>\n",
              "<style scoped>\n",
              "    .dataframe tbody tr th:only-of-type {\n",
              "        vertical-align: middle;\n",
              "    }\n",
              "\n",
              "    .dataframe tbody tr th {\n",
              "        vertical-align: top;\n",
              "    }\n",
              "\n",
              "    .dataframe thead th {\n",
              "        text-align: right;\n",
              "    }\n",
              "</style>\n",
              "<table border=\"1\" class=\"dataframe\">\n",
              "  <thead>\n",
              "    <tr style=\"text-align: right;\">\n",
              "      <th></th>\n",
              "      <th>mean texture</th>\n",
              "      <th>mean symmetry</th>\n",
              "    </tr>\n",
              "  </thead>\n",
              "  <tbody>\n",
              "    <tr>\n",
              "      <th>0</th>\n",
              "      <td>10.38</td>\n",
              "      <td>0.2419</td>\n",
              "    </tr>\n",
              "    <tr>\n",
              "      <th>1</th>\n",
              "      <td>17.77</td>\n",
              "      <td>0.1812</td>\n",
              "    </tr>\n",
              "    <tr>\n",
              "      <th>2</th>\n",
              "      <td>21.25</td>\n",
              "      <td>0.2069</td>\n",
              "    </tr>\n",
              "    <tr>\n",
              "      <th>3</th>\n",
              "      <td>20.38</td>\n",
              "      <td>0.2597</td>\n",
              "    </tr>\n",
              "    <tr>\n",
              "      <th>4</th>\n",
              "      <td>14.34</td>\n",
              "      <td>0.1809</td>\n",
              "    </tr>\n",
              "    <tr>\n",
              "      <th>...</th>\n",
              "      <td>...</td>\n",
              "      <td>...</td>\n",
              "    </tr>\n",
              "    <tr>\n",
              "      <th>564</th>\n",
              "      <td>22.39</td>\n",
              "      <td>0.1726</td>\n",
              "    </tr>\n",
              "    <tr>\n",
              "      <th>565</th>\n",
              "      <td>28.25</td>\n",
              "      <td>0.1752</td>\n",
              "    </tr>\n",
              "    <tr>\n",
              "      <th>566</th>\n",
              "      <td>28.08</td>\n",
              "      <td>0.1590</td>\n",
              "    </tr>\n",
              "    <tr>\n",
              "      <th>567</th>\n",
              "      <td>29.33</td>\n",
              "      <td>0.2397</td>\n",
              "    </tr>\n",
              "    <tr>\n",
              "      <th>568</th>\n",
              "      <td>24.54</td>\n",
              "      <td>0.1587</td>\n",
              "    </tr>\n",
              "  </tbody>\n",
              "</table>\n",
              "<p>569 rows × 2 columns</p>\n",
              "</div>\n",
              "      <button class=\"colab-df-convert\" onclick=\"convertToInteractive('df-58db6bd5-925b-4657-8a86-5d287d54433e')\"\n",
              "              title=\"Convert this dataframe to an interactive table.\"\n",
              "              style=\"display:none;\">\n",
              "        \n",
              "  <svg xmlns=\"http://www.w3.org/2000/svg\" height=\"24px\"viewBox=\"0 0 24 24\"\n",
              "       width=\"24px\">\n",
              "    <path d=\"M0 0h24v24H0V0z\" fill=\"none\"/>\n",
              "    <path d=\"M18.56 5.44l.94 2.06.94-2.06 2.06-.94-2.06-.94-.94-2.06-.94 2.06-2.06.94zm-11 1L8.5 8.5l.94-2.06 2.06-.94-2.06-.94L8.5 2.5l-.94 2.06-2.06.94zm10 10l.94 2.06.94-2.06 2.06-.94-2.06-.94-.94-2.06-.94 2.06-2.06.94z\"/><path d=\"M17.41 7.96l-1.37-1.37c-.4-.4-.92-.59-1.43-.59-.52 0-1.04.2-1.43.59L10.3 9.45l-7.72 7.72c-.78.78-.78 2.05 0 2.83L4 21.41c.39.39.9.59 1.41.59.51 0 1.02-.2 1.41-.59l7.78-7.78 2.81-2.81c.8-.78.8-2.07 0-2.86zM5.41 20L4 18.59l7.72-7.72 1.47 1.35L5.41 20z\"/>\n",
              "  </svg>\n",
              "      </button>\n",
              "      \n",
              "  <style>\n",
              "    .colab-df-container {\n",
              "      display:flex;\n",
              "      flex-wrap:wrap;\n",
              "      gap: 12px;\n",
              "    }\n",
              "\n",
              "    .colab-df-convert {\n",
              "      background-color: #E8F0FE;\n",
              "      border: none;\n",
              "      border-radius: 50%;\n",
              "      cursor: pointer;\n",
              "      display: none;\n",
              "      fill: #1967D2;\n",
              "      height: 32px;\n",
              "      padding: 0 0 0 0;\n",
              "      width: 32px;\n",
              "    }\n",
              "\n",
              "    .colab-df-convert:hover {\n",
              "      background-color: #E2EBFA;\n",
              "      box-shadow: 0px 1px 2px rgba(60, 64, 67, 0.3), 0px 1px 3px 1px rgba(60, 64, 67, 0.15);\n",
              "      fill: #174EA6;\n",
              "    }\n",
              "\n",
              "    [theme=dark] .colab-df-convert {\n",
              "      background-color: #3B4455;\n",
              "      fill: #D2E3FC;\n",
              "    }\n",
              "\n",
              "    [theme=dark] .colab-df-convert:hover {\n",
              "      background-color: #434B5C;\n",
              "      box-shadow: 0px 1px 3px 1px rgba(0, 0, 0, 0.15);\n",
              "      filter: drop-shadow(0px 1px 2px rgba(0, 0, 0, 0.3));\n",
              "      fill: #FFFFFF;\n",
              "    }\n",
              "  </style>\n",
              "\n",
              "      <script>\n",
              "        const buttonEl =\n",
              "          document.querySelector('#df-58db6bd5-925b-4657-8a86-5d287d54433e button.colab-df-convert');\n",
              "        buttonEl.style.display =\n",
              "          google.colab.kernel.accessAllowed ? 'block' : 'none';\n",
              "\n",
              "        async function convertToInteractive(key) {\n",
              "          const element = document.querySelector('#df-58db6bd5-925b-4657-8a86-5d287d54433e');\n",
              "          const dataTable =\n",
              "            await google.colab.kernel.invokeFunction('convertToInteractive',\n",
              "                                                     [key], {});\n",
              "          if (!dataTable) return;\n",
              "\n",
              "          const docLinkHtml = 'Like what you see? Visit the ' +\n",
              "            '<a target=\"_blank\" href=https://colab.research.google.com/notebooks/data_table.ipynb>data table notebook</a>'\n",
              "            + ' to learn more about interactive tables.';\n",
              "          element.innerHTML = '';\n",
              "          dataTable['output_type'] = 'display_data';\n",
              "          await google.colab.output.renderOutput(dataTable, element);\n",
              "          const docLink = document.createElement('div');\n",
              "          docLink.innerHTML = docLinkHtml;\n",
              "          element.appendChild(docLink);\n",
              "        }\n",
              "      </script>\n",
              "    </div>\n",
              "  </div>\n",
              "  "
            ]
          },
          "metadata": {},
          "execution_count": 38
        }
      ],
      "source": [
        "X_bc = data_breast_cancer[\"data\"][[\"mean texture\", \"mean symmetry\"]]\n",
        "y_bc = data_breast_cancer[\"target\"]\n",
        "X_bc"
      ]
    },
    {
      "cell_type": "code",
      "execution_count": 39,
      "id": "a1c79eeb-758e-4be8-8faf-9045f79d7d8d",
      "metadata": {
        "colab": {
          "base_uri": "https://localhost:8080/"
        },
        "id": "a1c79eeb-758e-4be8-8faf-9045f79d7d8d",
        "outputId": "02b7465a-8ee9-4f65-e0d3-02fb86bd3b03"
      },
      "outputs": [
        {
          "output_type": "execute_result",
          "data": {
            "text/plain": [
              "0      0\n",
              "1      0\n",
              "2      0\n",
              "3      0\n",
              "4      0\n",
              "      ..\n",
              "564    0\n",
              "565    0\n",
              "566    0\n",
              "567    0\n",
              "568    1\n",
              "Name: target, Length: 569, dtype: int64"
            ]
          },
          "metadata": {},
          "execution_count": 39
        }
      ],
      "source": [
        "y_bc"
      ]
    },
    {
      "cell_type": "raw",
      "id": "ebbe7877-dff1-4fb6-ae39-8035f89c6163",
      "metadata": {
        "id": "ebbe7877-dff1-4fb6-ae39-8035f89c6163"
      },
      "source": [
        "#train-test split "
      ]
    },
    {
      "cell_type": "code",
      "execution_count": 40,
      "id": "a346e2b1-d699-4621-acfa-1d17f7480682",
      "metadata": {
        "id": "a346e2b1-d699-4621-acfa-1d17f7480682"
      },
      "outputs": [],
      "source": [
        "import numpy as np\n",
        "from sklearn.model_selection import train_test_split\n",
        "X_bc_train, X_bc_test, y_bc_train, y_bc_test = train_test_split(X_bc, y_bc, test_size=0.2)"
      ]
    },
    {
      "cell_type": "code",
      "execution_count": 41,
      "id": "ff78f4e7-2e0a-423b-9978-be84e4ca9055",
      "metadata": {
        "id": "ff78f4e7-2e0a-423b-9978-be84e4ca9055"
      },
      "outputs": [],
      "source": [
        "#Decision trees\n",
        "from sklearn.tree import DecisionTreeClassifier\n",
        "\n",
        "tree_clf = DecisionTreeClassifier()"
      ]
    },
    {
      "cell_type": "code",
      "execution_count": 42,
      "id": "3271204b-4b04-4410-b2e8-c078752c0716",
      "metadata": {
        "id": "3271204b-4b04-4410-b2e8-c078752c0716"
      },
      "outputs": [],
      "source": [
        "#Logistic regression\n",
        "from sklearn.linear_model import LogisticRegression\n",
        "\n",
        "log_clf = LogisticRegression()\n"
      ]
    },
    {
      "cell_type": "code",
      "execution_count": 43,
      "id": "84f2e789-8af3-4d62-afe6-e85cd610f65a",
      "metadata": {
        "id": "84f2e789-8af3-4d62-afe6-e85cd610f65a"
      },
      "outputs": [],
      "source": [
        "#KNN \n",
        "from sklearn.neighbors import KNeighborsClassifier\n",
        "\n",
        "knn_clf = KNeighborsClassifier()"
      ]
    },
    {
      "cell_type": "code",
      "execution_count": 44,
      "id": "37988286-92f6-491a-9a2b-3a9f578f790b",
      "metadata": {
        "id": "37988286-92f6-491a-9a2b-3a9f578f790b"
      },
      "outputs": [],
      "source": [
        "acc_vote = []"
      ]
    },
    {
      "cell_type": "code",
      "execution_count": 45,
      "id": "5928b208-6414-4bce-8a06-50d44c4d2bf8",
      "metadata": {
        "colab": {
          "base_uri": "https://localhost:8080/"
        },
        "id": "5928b208-6414-4bce-8a06-50d44c4d2bf8",
        "outputId": "93426b81-c549-4a2c-dac7-7c6856396a1b"
      },
      "outputs": [
        {
          "output_type": "execute_result",
          "data": {
            "text/plain": [
              "VotingClassifier(estimators=[('tc', DecisionTreeClassifier()),\n",
              "                             ('lrc', LogisticRegression()),\n",
              "                             ('knncl', KNeighborsClassifier())])"
            ]
          },
          "metadata": {},
          "execution_count": 45
        }
      ],
      "source": [
        "#hard \n",
        "from sklearn.ensemble import VotingClassifier\n",
        "voting_clf_hard = VotingClassifier(\n",
        "    estimators=[('tc', tree_clf),\n",
        "                ('lrc', log_clf),\n",
        "                ('knncl', knn_clf)],\n",
        "    voting='hard')\n",
        "\n",
        "voting_clf_hard.fit(X_bc_train, y_bc_train)"
      ]
    },
    {
      "cell_type": "code",
      "source": [
        "#soft\n",
        "voting_clf_soft = VotingClassifier(\n",
        "    estimators=[('tc', tree_clf),\n",
        "                ('lrc', log_clf),\n",
        "                ('knncl', knn_clf)],\n",
        "    voting='soft')\n",
        "\n",
        "voting_clf_soft.fit(X_bc_train, y_bc_train)"
      ],
      "metadata": {
        "colab": {
          "base_uri": "https://localhost:8080/"
        },
        "id": "WMYZJws0glMd",
        "outputId": "e83c1e49-271c-4a1b-8c8f-6947c9ceb614"
      },
      "id": "WMYZJws0glMd",
      "execution_count": 46,
      "outputs": [
        {
          "output_type": "execute_result",
          "data": {
            "text/plain": [
              "VotingClassifier(estimators=[('tc', DecisionTreeClassifier()),\n",
              "                             ('lrc', LogisticRegression()),\n",
              "                             ('knncl', KNeighborsClassifier())],\n",
              "                 voting='soft')"
            ]
          },
          "metadata": {},
          "execution_count": 46
        }
      ]
    },
    {
      "cell_type": "raw",
      "id": "398354d1-b702-4d58-9564-764f25738fce",
      "metadata": {
        "id": "398354d1-b702-4d58-9564-764f25738fce"
      },
      "source": [
        ""
      ]
    },
    {
      "cell_type": "code",
      "execution_count": 47,
      "id": "8cc46550-3751-4cac-bfac-ca9853675839",
      "metadata": {
        "id": "8cc46550-3751-4cac-bfac-ca9853675839"
      },
      "outputs": [],
      "source": [
        "from sklearn.metrics import accuracy_score\n",
        "for clf in (tree_clf, log_clf, knn_clf, voting_clf_hard, voting_clf_soft):\n",
        "    clf.fit(X_bc_train, y_bc_train)\n",
        "    y_bc_pred_train = clf.predict(X_bc_train)\n",
        "    y_bc_pred_test = clf.predict(X_bc_test)\n",
        "    acc_train = accuracy_score(y_bc_train, y_bc_pred_train)\n",
        "    acc_test = accuracy_score(y_bc_test, y_bc_pred_test)\n",
        "    acc_vote.append((acc_train, acc_test))"
      ]
    },
    {
      "cell_type": "code",
      "execution_count": 48,
      "id": "ad0f89d9-9502-4750-926e-79f8a6689962",
      "metadata": {
        "id": "ad0f89d9-9502-4750-926e-79f8a6689962",
        "colab": {
          "base_uri": "https://localhost:8080/"
        },
        "outputId": "2844f87d-0cce-4787-8e1f-bc92b65db005"
      },
      "outputs": [
        {
          "output_type": "execute_result",
          "data": {
            "text/plain": [
              "[(1.0, 0.6929824561403509),\n",
              " (0.7318681318681318, 0.6842105263157895),\n",
              " (0.7670329670329671, 0.6666666666666666),\n",
              " (0.8263736263736263, 0.6929824561403509),\n",
              " (0.9582417582417583, 0.6491228070175439)]"
            ]
          },
          "metadata": {},
          "execution_count": 48
        }
      ],
      "source": [
        "acc_vote"
      ]
    },
    {
      "cell_type": "code",
      "execution_count": 50,
      "id": "e80067fd-9b70-40b6-8610-a9d7d2f027cd",
      "metadata": {
        "id": "e80067fd-9b70-40b6-8610-a9d7d2f027cd"
      },
      "outputs": [],
      "source": [
        "import pickle\n",
        "with open('acc_vote.pkl', 'wb') as fp:\n",
        "    pickle.dump(acc_vote, fp)"
      ]
    },
    {
      "cell_type": "code",
      "execution_count": 51,
      "id": "6ca8a721-2acb-4bb1-bec7-3f68d32197be",
      "metadata": {
        "id": "6ca8a721-2acb-4bb1-bec7-3f68d32197be"
      },
      "outputs": [],
      "source": [
        "vote = [tree_clf, log_clf, knn_clf, voting_clf_hard, voting_clf_soft]"
      ]
    },
    {
      "cell_type": "code",
      "execution_count": 52,
      "id": "771d1abe-40cb-4ca3-a383-cb8ce07d9c60",
      "metadata": {
        "id": "771d1abe-40cb-4ca3-a383-cb8ce07d9c60"
      },
      "outputs": [],
      "source": [
        "import pickle\n",
        "with open('vote.pkl', 'wb') as fp:\n",
        "    pickle.dump(vote, fp)"
      ]
    },
    {
      "cell_type": "code",
      "source": [
        ""
      ],
      "metadata": {
        "id": "zl94_lYRlgRK"
      },
      "id": "zl94_lYRlgRK",
      "execution_count": null,
      "outputs": []
    },
    {
      "cell_type": "code",
      "source": [
        "from sklearn.ensemble import BaggingClassifier\n",
        "from sklearn.ensemble import RandomForestClassifier\n",
        "from sklearn.ensemble import AdaBoostClassifier\n",
        "from sklearn.ensemble import GradientBoostingClassifier\n",
        "bag_clf = BaggingClassifier(DecisionTreeClassifier(), n_estimators = 30, bootstrap = True)\n",
        "bag_clf_05 = BaggingClassifier(DecisionTreeClassifier(), max_samples=0.5, n_estimators = 30, bootstrap = True)\n",
        "past_clf = BaggingClassifier(DecisionTreeClassifier(), n_estimators = 30, bootstrap = False)\n",
        "past_clf_05 = BaggingClassifier(DecisionTreeClassifier(), max_samples=0.5, n_estimators = 30, bootstrap = False)\n",
        "rnd_clf = RandomForestClassifier(n_estimators=30)\n",
        "ab_clf = AdaBoostClassifier(n_estimators=30)\n",
        "gb_clf = GradientBoostingClassifier(n_estimators = 30)"
      ],
      "metadata": {
        "id": "kL3Ui-61lgZa"
      },
      "id": "kL3Ui-61lgZa",
      "execution_count": 54,
      "outputs": []
    },
    {
      "cell_type": "code",
      "source": [
        "acc_bag = []"
      ],
      "metadata": {
        "id": "jNnZeHWrlgcz"
      },
      "id": "jNnZeHWrlgcz",
      "execution_count": 55,
      "outputs": []
    },
    {
      "cell_type": "code",
      "source": [
        "for clf in (bag_clf, bag_clf_05, past_clf, past_clf_05, rnd_clf, ab_clf, gb_clf):\n",
        "    clf.fit(X_bc_train, y_bc_train)\n",
        "    y_bc_pred_train = clf.predict(X_bc_train)\n",
        "    y_bc_pred_test = clf.predict(X_bc_test)\n",
        "    acc_train = accuracy_score(y_bc_train, y_bc_pred_train)\n",
        "    acc_test = accuracy_score(y_bc_test, y_bc_pred_test)\n",
        "    acc_vote.append((acc_train, acc_test))"
      ],
      "metadata": {
        "id": "Ke5WyOX3lggS"
      },
      "id": "Ke5WyOX3lggS",
      "execution_count": 56,
      "outputs": []
    },
    {
      "cell_type": "code",
      "source": [
        "import pickle\n",
        "with open('acc_bag.pkl', 'wb') as fp:\n",
        "    pickle.dump(acc_bag, fp)"
      ],
      "metadata": {
        "id": "4wa4rGTclgj3"
      },
      "id": "4wa4rGTclgj3",
      "execution_count": 57,
      "outputs": []
    },
    {
      "cell_type": "code",
      "source": [
        "bag = [bag_clf, bag_clf_05, past_clf, past_clf_05, rnd_clf, ab_clf, gb_clf]"
      ],
      "metadata": {
        "id": "wUEHn_jjlgnv"
      },
      "id": "wUEHn_jjlgnv",
      "execution_count": 58,
      "outputs": []
    },
    {
      "cell_type": "code",
      "source": [
        "import pickle\n",
        "with open('bag.pkl', 'wb') as fp:\n",
        "    pickle.dump(bag, fp)"
      ],
      "metadata": {
        "id": "09eeXc0zlgrE"
      },
      "id": "09eeXc0zlgrE",
      "execution_count": 59,
      "outputs": []
    },
    {
      "cell_type": "code",
      "source": [
        "fea_clf = BaggingClassifier(DecisionTreeClassifier(), n_estimators=30, max_samples=0.5, max_features = 2, bootstrap = True, bootstrap_features = False)\n",
        "\n",
        "fea_clf.fit(X_bc_train, y_bc_train)\n",
        "y_bc_pred_train = fea_clf.predict(X_bc_train)\n",
        "y_bc_pred_test = fea_clf.predict(X_bc_test)\n",
        "acc_train = accuracy_score(y_bc_train, y_bc_pred_train)\n",
        "acc_test = accuracy_score(y_bc_test, y_bc_pred_test)\n",
        "\n",
        "acc_fea = [acc_train, acc_test]\n",
        "fea = [fea_clf]"
      ],
      "metadata": {
        "id": "6m26nanbCYjg"
      },
      "id": "6m26nanbCYjg",
      "execution_count": 63,
      "outputs": []
    },
    {
      "cell_type": "code",
      "source": [
        "import pickle\n",
        "with open('acc_fea.pkl', 'wb') as fp:\n",
        "    pickle.dump(acc_fea, fp)"
      ],
      "metadata": {
        "id": "vLTR790ICYsH"
      },
      "id": "vLTR790ICYsH",
      "execution_count": 64,
      "outputs": []
    },
    {
      "cell_type": "code",
      "source": [
        "import pickle\n",
        "with open('fea.pkl', 'wb') as fp:\n",
        "    pickle.dump(fea, fp)"
      ],
      "metadata": {
        "id": "xenlKQC8CY0p"
      },
      "id": "xenlKQC8CY0p",
      "execution_count": 65,
      "outputs": []
    },
    {
      "cell_type": "code",
      "source": [
        ""
      ],
      "metadata": {
        "id": "nbVmbrujGnWy"
      },
      "id": "nbVmbrujGnWy",
      "execution_count": null,
      "outputs": []
    },
    {
      "cell_type": "code",
      "source": [
        ""
      ],
      "metadata": {
        "id": "CfGGDcIYGnlY"
      },
      "id": "CfGGDcIYGnlY",
      "execution_count": null,
      "outputs": []
    }
  ],
  "metadata": {
    "kernelspec": {
      "display_name": "Python 3 (ipykernel)",
      "language": "python",
      "name": "python3"
    },
    "language_info": {
      "codemirror_mode": {
        "name": "ipython",
        "version": 3
      },
      "file_extension": ".py",
      "mimetype": "text/x-python",
      "name": "python",
      "nbconvert_exporter": "python",
      "pygments_lexer": "ipython3",
      "version": "3.9.10"
    },
    "colab": {
      "name": "lababy6.ipynb",
      "provenance": [],
      "include_colab_link": true
    }
  },
  "nbformat": 4,
  "nbformat_minor": 5
}