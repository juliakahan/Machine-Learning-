{
 "cells": [
  {
   "cell_type": "code",
   "execution_count": 1,
   "id": "fc9cb25e-8896-4403-abb7-51d7b600237d",
   "metadata": {},
   "outputs": [],
   "source": [
    "from sklearn import datasets\n",
    "import numpy as np"
   ]
  },
  {
   "cell_type": "code",
   "execution_count": 2,
   "id": "faa5f156-fa55-4a08-b91e-ce27d3d8e7e4",
   "metadata": {},
   "outputs": [
    {
     "data": {
      "text/plain": [
       "0      0\n",
       "1      0\n",
       "2      0\n",
       "3      0\n",
       "4      0\n",
       "      ..\n",
       "564    0\n",
       "565    0\n",
       "566    0\n",
       "567    0\n",
       "568    1\n",
       "Name: target, Length: 569, dtype: int64"
      ]
     },
     "execution_count": 2,
     "metadata": {},
     "output_type": "execute_result"
    }
   ],
   "source": [
    "#\n",
    "data_breast_cancer = datasets.load_breast_cancer(as_frame = True)\n",
    "# print(data_breast_cancer['DESCR'])\n",
    "X_cancer = data_breast_cancer[\"data\"][[\"mean area\", \"mean smoothness\"]]\n",
    "y_cancer = data_breast_cancer[\"target\"]\n",
    "\n",
    "X_cancer\n",
    "y_cancer"
   ]
  },
  {
   "cell_type": "code",
   "execution_count": 3,
   "id": "59cedfb1-8519-476e-b28f-1ef54ab7932f",
   "metadata": {},
   "outputs": [
    {
     "data": {
      "text/html": [
       "<div>\n",
       "<style scoped>\n",
       "    .dataframe tbody tr th:only-of-type {\n",
       "        vertical-align: middle;\n",
       "    }\n",
       "\n",
       "    .dataframe tbody tr th {\n",
       "        vertical-align: top;\n",
       "    }\n",
       "\n",
       "    .dataframe thead th {\n",
       "        text-align: right;\n",
       "    }\n",
       "</style>\n",
       "<table border=\"1\" class=\"dataframe\">\n",
       "  <thead>\n",
       "    <tr style=\"text-align: right;\">\n",
       "      <th></th>\n",
       "      <th>petal length (cm)</th>\n",
       "      <th>petal width (cm)</th>\n",
       "    </tr>\n",
       "  </thead>\n",
       "  <tbody>\n",
       "    <tr>\n",
       "      <th>0</th>\n",
       "      <td>1.4</td>\n",
       "      <td>0.2</td>\n",
       "    </tr>\n",
       "    <tr>\n",
       "      <th>1</th>\n",
       "      <td>1.4</td>\n",
       "      <td>0.2</td>\n",
       "    </tr>\n",
       "    <tr>\n",
       "      <th>2</th>\n",
       "      <td>1.3</td>\n",
       "      <td>0.2</td>\n",
       "    </tr>\n",
       "    <tr>\n",
       "      <th>3</th>\n",
       "      <td>1.5</td>\n",
       "      <td>0.2</td>\n",
       "    </tr>\n",
       "    <tr>\n",
       "      <th>4</th>\n",
       "      <td>1.4</td>\n",
       "      <td>0.2</td>\n",
       "    </tr>\n",
       "    <tr>\n",
       "      <th>...</th>\n",
       "      <td>...</td>\n",
       "      <td>...</td>\n",
       "    </tr>\n",
       "    <tr>\n",
       "      <th>145</th>\n",
       "      <td>5.2</td>\n",
       "      <td>2.3</td>\n",
       "    </tr>\n",
       "    <tr>\n",
       "      <th>146</th>\n",
       "      <td>5.0</td>\n",
       "      <td>1.9</td>\n",
       "    </tr>\n",
       "    <tr>\n",
       "      <th>147</th>\n",
       "      <td>5.2</td>\n",
       "      <td>2.0</td>\n",
       "    </tr>\n",
       "    <tr>\n",
       "      <th>148</th>\n",
       "      <td>5.4</td>\n",
       "      <td>2.3</td>\n",
       "    </tr>\n",
       "    <tr>\n",
       "      <th>149</th>\n",
       "      <td>5.1</td>\n",
       "      <td>1.8</td>\n",
       "    </tr>\n",
       "  </tbody>\n",
       "</table>\n",
       "<p>150 rows × 2 columns</p>\n",
       "</div>"
      ],
      "text/plain": [
       "     petal length (cm)  petal width (cm)\n",
       "0                  1.4               0.2\n",
       "1                  1.4               0.2\n",
       "2                  1.3               0.2\n",
       "3                  1.5               0.2\n",
       "4                  1.4               0.2\n",
       "..                 ...               ...\n",
       "145                5.2               2.3\n",
       "146                5.0               1.9\n",
       "147                5.2               2.0\n",
       "148                5.4               2.3\n",
       "149                5.1               1.8\n",
       "\n",
       "[150 rows x 2 columns]"
      ]
     },
     "execution_count": 3,
     "metadata": {},
     "output_type": "execute_result"
    }
   ],
   "source": [
    "#\n",
    "data_iris = datasets.load_iris(as_frame=True)\n",
    "X_iris = data_iris[\"data\"][[\"petal length (cm)\", \"petal width (cm)\"]]\n",
    "y_iris = (data_iris[\"target\"] == 2).astype(np.int8)\n",
    "X_iris"
   ]
  },
  {
   "cell_type": "code",
   "execution_count": 4,
   "id": "680c5327-8db7-4f7d-b7b8-1c6762c5518a",
   "metadata": {},
   "outputs": [],
   "source": [
    "from sklearn.model_selection import train_test_split\n",
    "X_cancer_train, X_cancer_test, y_cancer_train, y_cancer_test = train_test_split(X_cancer, y_cancer, test_size=0.2)"
   ]
  },
  {
   "cell_type": "code",
   "execution_count": 5,
   "id": "8606193d-6058-45b9-86f0-a7e698f37355",
   "metadata": {},
   "outputs": [],
   "source": [
    "X_iris_train, X_iris_test, y_iris_train, y_iris_test = train_test_split(X_iris, y_iris, test_size=0.2)"
   ]
  },
  {
   "cell_type": "code",
   "execution_count": 6,
   "id": "2175a376-fee1-406d-ae53-491f56d57ca9",
   "metadata": {},
   "outputs": [],
   "source": [
    "import numpy as np\n",
    "from sklearn.pipeline import Pipeline\n",
    "from sklearn.preprocessing import StandardScaler\n",
    "from sklearn.svm import LinearSVC"
   ]
  },
  {
   "cell_type": "code",
   "execution_count": 7,
   "id": "94ecff8c-4db0-4ad5-bc66-d1790f16d043",
   "metadata": {},
   "outputs": [
    {
     "name": "stderr",
     "output_type": "stream",
     "text": [
      "/Library/Frameworks/Python.framework/Versions/3.8/lib/python3.8/site-packages/sklearn/svm/_base.py:1206: ConvergenceWarning: Liblinear failed to converge, increase the number of iterations.\n",
      "  warnings.warn(\n"
     ]
    },
    {
     "data": {
      "text/plain": [
       "Pipeline(steps=[('linear_svc', LinearSVC(C=1, loss='hinge'))])"
      ]
     },
     "execution_count": 7,
     "metadata": {},
     "output_type": "execute_result"
    }
   ],
   "source": [
    "#cancer without scaling\n",
    "svm_clf_cancer = Pipeline([(\"linear_svc\", LinearSVC(C=1, loss=\"hinge\",))])\n",
    "svm_clf_cancer.fit(X_cancer, y_cancer)"
   ]
  },
  {
   "cell_type": "code",
   "execution_count": 8,
   "id": "a1ef997a-e070-4e21-a875-edbd29526583",
   "metadata": {},
   "outputs": [
    {
     "name": "stdout",
     "output_type": "stream",
     "text": [
      "0.6263736263736264 0.631578947368421\n"
     ]
    }
   ],
   "source": [
    "from sklearn.metrics import accuracy_score\n",
    "y_cancer_train_pred = svm_clf_cancer.predict(X_cancer_train)\n",
    "accuracy_cancer_train = accuracy_score(y_cancer_train, y_cancer_train_pred)\n",
    "\n",
    "y_cancer_test_pred = svm_clf_cancer.predict(X_cancer_test)\n",
    "accuracy_cancer_test = accuracy_score(y_cancer_test, y_cancer_test_pred)\n",
    "\n",
    "print(accuracy_cancer_train, accuracy_cancer_test)"
   ]
  },
  {
   "cell_type": "code",
   "execution_count": 9,
   "id": "e086212c-6127-41e4-867c-2010525c7901",
   "metadata": {},
   "outputs": [
    {
     "data": {
      "text/plain": [
       "Pipeline(steps=[('scaler', StandardScaler()),\n",
       "                ('linear_svc', LinearSVC(C=1, loss='hinge'))])"
      ]
     },
     "execution_count": 9,
     "metadata": {},
     "output_type": "execute_result"
    }
   ],
   "source": [
    "#cancer with scaling\n",
    "svm_clf_cancer_scal = Pipeline([\n",
    "        (\"scaler\", StandardScaler()), (\"linear_svc\", LinearSVC(C=1, loss=\"hinge\",))])\n",
    "\n",
    "svm_clf_cancer_scal.fit(X_cancer, y_cancer)"
   ]
  },
  {
   "cell_type": "code",
   "execution_count": 10,
   "id": "ca5ca937-4085-48e9-98fe-5e4c4be4327d",
   "metadata": {},
   "outputs": [
    {
     "name": "stdout",
     "output_type": "stream",
     "text": [
      "0.9076923076923077\n",
      "0.868421052631579\n"
     ]
    }
   ],
   "source": [
    "y_cancer_train_pred_scal = svm_clf_cancer_scal.predict(X_cancer_train)\n",
    "accuracy_cancer_train_scal = accuracy_score(y_cancer_train, y_cancer_train_pred_scal)\n",
    "print(accuracy_cancer_train_scal)\n",
    "\n",
    "y_cancer_test_pred_scal = svm_clf_cancer_scal.predict(X_cancer_test)\n",
    "accuracy_cancer_test_scal = accuracy_score(y_cancer_test, y_cancer_test_pred_scal)\n",
    "print(accuracy_cancer_test_scal)\n"
   ]
  },
  {
   "cell_type": "code",
   "execution_count": 11,
   "id": "60e6343f-6305-4fec-afad-e6a2e2d9f0f7",
   "metadata": {},
   "outputs": [
    {
     "data": {
      "text/plain": [
       "[0.6263736263736264, 0.631578947368421, 0.9076923076923077, 0.868421052631579]"
      ]
     },
     "execution_count": 11,
     "metadata": {},
     "output_type": "execute_result"
    }
   ],
   "source": [
    "bc_acc = [accuracy_cancer_train, accuracy_cancer_test, accuracy_cancer_train_scal, accuracy_cancer_test_scal]\n",
    "bc_acc"
   ]
  },
  {
   "cell_type": "code",
   "execution_count": 12,
   "id": "3b923e4e-c428-4517-8a57-daf687a59aae",
   "metadata": {},
   "outputs": [],
   "source": [
    "import pickle\n",
    "with open('bc_acc.pkl', 'wb') as fp:\n",
    "    pickle.dump(bc_acc, fp)"
   ]
  },
  {
   "cell_type": "code",
   "execution_count": 13,
   "id": "314742d5-0800-43f9-bc8b-585690b3d226",
   "metadata": {},
   "outputs": [
    {
     "name": "stderr",
     "output_type": "stream",
     "text": [
      "/Library/Frameworks/Python.framework/Versions/3.8/lib/python3.8/site-packages/sklearn/svm/_base.py:1206: ConvergenceWarning: Liblinear failed to converge, increase the number of iterations.\n",
      "  warnings.warn(\n"
     ]
    },
    {
     "data": {
      "text/plain": [
       "Pipeline(steps=[('linear_svc', LinearSVC(C=1, loss='hinge'))])"
      ]
     },
     "execution_count": 13,
     "metadata": {},
     "output_type": "execute_result"
    }
   ],
   "source": [
    "#iris without scaling\n",
    "svm_clf_iris = Pipeline([(\"linear_svc\", LinearSVC(C=1, loss=\"hinge\",))])\n",
    "svm_clf_iris.fit(X_iris, y_iris)"
   ]
  },
  {
   "cell_type": "code",
   "execution_count": 14,
   "id": "736dfd94-d880-46cc-b4c8-3c0508ff21eb",
   "metadata": {},
   "outputs": [
    {
     "name": "stdout",
     "output_type": "stream",
     "text": [
      "0.95\n",
      "1.0\n"
     ]
    }
   ],
   "source": [
    "from sklearn.metrics import accuracy_score\n",
    "\n",
    "y_iris_train_pred = svm_clf_iris.predict(X_iris_train)\n",
    "accuracy_iris_train = accuracy_score(y_iris_train, y_iris_train_pred)\n",
    "print(accuracy_iris_train)\n",
    "\n",
    "y_iris_test_pred = svm_clf_iris.predict(X_iris_test)\n",
    "accuracy_iris_test = accuracy_score(y_iris_test, y_iris_test_pred)\n",
    "print(accuracy_iris_test)"
   ]
  },
  {
   "cell_type": "code",
   "execution_count": 15,
   "id": "9a4b684d-e945-4869-b9b7-0ec3ccb91fcc",
   "metadata": {},
   "outputs": [
    {
     "data": {
      "text/plain": [
       "Pipeline(steps=[('scaler', StandardScaler()),\n",
       "                ('linear_svc', LinearSVC(C=1, loss='hinge'))])"
      ]
     },
     "execution_count": 15,
     "metadata": {},
     "output_type": "execute_result"
    }
   ],
   "source": [
    "#iris with scaling\n",
    "svm_clf_iris_scal = Pipeline([(\"scaler\", StandardScaler()), (\"linear_svc\", LinearSVC(C=1, loss=\"hinge\"))])\n",
    "svm_clf_iris_scal.fit(X_iris, y_iris)"
   ]
  },
  {
   "cell_type": "code",
   "execution_count": 16,
   "id": "6ab80cfb-dbca-43c4-acd5-4043c7799bef",
   "metadata": {},
   "outputs": [
    {
     "name": "stdout",
     "output_type": "stream",
     "text": [
      "0.9583333333333334\n",
      "0.9666666666666667\n"
     ]
    }
   ],
   "source": [
    "y_iris_train_pred_scal = svm_clf_iris_scal.predict(X_iris_train)\n",
    "accuracy_iris_train_scal = accuracy_score(y_iris_train, y_iris_train_pred_scal)\n",
    "print(accuracy_iris_train_scal)\n",
    "\n",
    "y_iris_test_pred_scal = svm_clf_iris_scal.predict(X_iris_test)\n",
    "accuracy_iris_test_scal = accuracy_score(y_iris_test, y_iris_test_pred_scal)\n",
    "print(accuracy_iris_test_scal)"
   ]
  },
  {
   "cell_type": "code",
   "execution_count": 17,
   "id": "0700f64c-9bc4-4aff-96ad-ba5b6005f0d8",
   "metadata": {},
   "outputs": [
    {
     "data": {
      "text/plain": [
       "[0.95, 1.0, 0.9583333333333334, 0.9666666666666667]"
      ]
     },
     "execution_count": 17,
     "metadata": {},
     "output_type": "execute_result"
    }
   ],
   "source": [
    "iris_acc = [accuracy_iris_train, accuracy_iris_test, accuracy_iris_train_scal, accuracy_iris_test_scal]\n",
    "iris_acc"
   ]
  },
  {
   "cell_type": "code",
   "execution_count": 18,
   "id": "19067cb7-c462-4ef6-9da3-f9eeacb0635b",
   "metadata": {},
   "outputs": [],
   "source": [
    "import pickle\n",
    "with open('iris_acc.pkl', 'wb') as fp:\n",
    "    pickle.dump(iris_acc, fp)"
   ]
  },
  {
   "cell_type": "code",
   "execution_count": null,
   "id": "09c20005-9d2c-4978-b079-e7faeed9869e",
   "metadata": {},
   "outputs": [],
   "source": []
  }
 ],
 "metadata": {
  "kernelspec": {
   "display_name": "Python 3 (ipykernel)",
   "language": "python",
   "name": "python3"
  },
  "language_info": {
   "codemirror_mode": {
    "name": "ipython",
    "version": 3
   },
   "file_extension": ".py",
   "mimetype": "text/x-python",
   "name": "python",
   "nbconvert_exporter": "python",
   "pygments_lexer": "ipython3",
   "version": "3.8.6"
  }
 },
 "nbformat": 4,
 "nbformat_minor": 5
}
