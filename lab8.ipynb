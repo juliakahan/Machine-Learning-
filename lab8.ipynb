{
  "nbformat": 4,
  "nbformat_minor": 0,
  "metadata": {
    "colab": {
      "name": "Untitled5.ipynb",
      "provenance": [],
      "authorship_tag": "ABX9TyP8Qnz6qvAGM2cJMXHTY9zO",
      "include_colab_link": true
    },
    "kernelspec": {
      "name": "python3",
      "display_name": "Python 3"
    },
    "language_info": {
      "name": "python"
    }
  },
  "cells": [
    {
      "cell_type": "markdown",
      "metadata": {
        "id": "view-in-github",
        "colab_type": "text"
      },
      "source": [
        "<a href=\"https://colab.research.google.com/github/juliakahan/Machine-Learning-/blob/main/lab8.ipynb\" target=\"_parent\"><img src=\"https://colab.research.google.com/assets/colab-badge.svg\" alt=\"Open In Colab\"/></a>"
      ]
    },
    {
      "cell_type": "code",
      "execution_count": 32,
      "metadata": {
        "id": "DsHetf1eA001"
      },
      "outputs": [],
      "source": [
        "import numpy as np\n",
        "import pandas as pd\n",
        "from sklearn import datasets\n",
        "data_breast_cancer = datasets.load_breast_cancer()\n",
        "X_cancer = data_breast_cancer[\"data\"]"
      ]
    },
    {
      "cell_type": "code",
      "source": [
        "from sklearn.datasets import load_iris \n",
        "data_iris = load_iris()\n",
        "X_iris = data_iris[\"data\"]"
      ],
      "metadata": {
        "id": "LcAtwu_4BIkl"
      },
      "execution_count": 33,
      "outputs": []
    },
    {
      "cell_type": "code",
      "source": [
        "pca_bc = []\n",
        "pca_ir = []"
      ],
      "metadata": {
        "id": "OI_UuI-ABKyB"
      },
      "execution_count": 7,
      "outputs": []
    },
    {
      "cell_type": "markdown",
      "source": [
        "####PCA"
      ],
      "metadata": {
        "id": "w1umn930FMpw"
      }
    },
    {
      "cell_type": "markdown",
      "source": [
        "#####without scaling"
      ],
      "metadata": {
        "id": "Kss2iYJeFOyi"
      }
    },
    {
      "cell_type": "code",
      "source": [
        "from sklearn.decomposition import PCA\n",
        "pca_cancer = PCA(n_components = 0.9)\n",
        "X_cancer2D = pca_cancer.fit_transform(X_cancer)\n",
        "cancer_variance_ratio = pca_cancer.explained_variance_ratio_\n",
        "print(cancer_variance_ratio)"
      ],
      "metadata": {
        "colab": {
          "base_uri": "https://localhost:8080/"
        },
        "id": "Skifoe-YBTRT",
        "outputId": "4761ade3-3bdb-472e-f3a4-909ab2f31fed"
      },
      "execution_count": 8,
      "outputs": [
        {
          "output_type": "stream",
          "name": "stdout",
          "text": [
            "[0.98204467]\n"
          ]
        }
      ]
    },
    {
      "cell_type": "code",
      "source": [
        "pca_iris = PCA(n_components = 0.9)\n",
        "X_iris2D = pca_iris.fit_transform(X_iris)\n",
        "iris_variance_ratio = pca_iris.explained_variance_ratio_\n",
        "print(iris_variance_ratio)"
      ],
      "metadata": {
        "colab": {
          "base_uri": "https://localhost:8080/"
        },
        "id": "Vv44RT6dBWD4",
        "outputId": "2248aa60-f509-44cd-e32c-6e086d3fc405"
      },
      "execution_count": 9,
      "outputs": [
        {
          "output_type": "stream",
          "name": "stdout",
          "text": [
            "[0.92461872]\n"
          ]
        }
      ]
    },
    {
      "cell_type": "markdown",
      "source": [
        "#####with scaling "
      ],
      "metadata": {
        "id": "CRpq9aGdBZB8"
      }
    },
    {
      "cell_type": "code",
      "source": [
        "from sklearn.preprocessing import StandardScaler\n",
        "\n",
        "scaler_cancer = StandardScaler()\n",
        "X_cancer_scaler = scaler_cancer.fit_transform(X_cancer)\n",
        "pca_cancer_scal = PCA(n_components = 0.9)\n",
        "X_cancer2D_scal = pca_cancer_scal.fit_transform(X_cancer_scaler)\n",
        "cancer_variance_ratio_scal = pca_cancer_scal.explained_variance_ratio_\n",
        "pca_bc=cancer_variance_ratio_scal\n",
        "pca_bc"
      ],
      "metadata": {
        "colab": {
          "base_uri": "https://localhost:8080/"
        },
        "id": "SGoNDUYcBbtQ",
        "outputId": "4c852d5a-749d-481d-ff32-363a0f943ae2"
      },
      "execution_count": 11,
      "outputs": [
        {
          "output_type": "execute_result",
          "data": {
            "text/plain": [
              "array([0.44272026, 0.18971182, 0.09393163, 0.06602135, 0.05495768,\n",
              "       0.04024522, 0.02250734])"
            ]
          },
          "metadata": {},
          "execution_count": 11
        }
      ]
    },
    {
      "cell_type": "code",
      "source": [
        "import pickle\n",
        "with open('pca_bc.pkl', 'wb') as fp:\n",
        "    pickle.dump(pca_bc, fp)"
      ],
      "metadata": {
        "id": "-mmDq__TENTL"
      },
      "execution_count": 24,
      "outputs": []
    },
    {
      "cell_type": "code",
      "source": [
        "with open('pca_ir.pkl', 'wb') as fp:\n",
        "    pickle.dump(pca_ir, fp)"
      ],
      "metadata": {
        "id": "l732ZJY9EkLZ"
      },
      "execution_count": 25,
      "outputs": []
    },
    {
      "cell_type": "code",
      "source": [
        "scaler_iris = StandardScaler()\n",
        "X_iris_scaler = scaler_iris.fit_transform(X_iris)\n",
        "pca_iris_scal = PCA(n_components = 0.9)\n",
        "X_iris2D_scal = pca_iris_scal.fit_transform(X_iris_scaler)\n",
        "iris_variance_ratio_scal = pca_iris_scal.explained_variance_ratio_\n",
        "pca_ir=iris_variance_ratio_scal\n",
        "pca_ir"
      ],
      "metadata": {
        "colab": {
          "base_uri": "https://localhost:8080/"
        },
        "id": "rYzGSV3VBo4j",
        "outputId": "6e19a24b-bf82-4fe4-a03e-f8a5671ab77d"
      },
      "execution_count": 12,
      "outputs": [
        {
          "output_type": "execute_result",
          "data": {
            "text/plain": [
              "array([0.72962445, 0.22850762])"
            ]
          },
          "metadata": {},
          "execution_count": 12
        }
      ]
    },
    {
      "cell_type": "code",
      "source": [
        "idx_bc = []\n",
        "idx_ir = []\n",
        "for i in pca_cancer_scal.components_:\n",
        "    idx_bc.append(np.where(i == max(i, key = lambda x:abs(x)))[0][0])\n",
        "for i in pca_iris_scal.components_:\n",
        "    idx_ir.append(np.where(i == max(i, key = lambda x:abs(x)))[0][0])\n",
        "print(idx_bc)\n",
        "idx_ir"
      ],
      "metadata": {
        "colab": {
          "base_uri": "https://localhost:8080/"
        },
        "id": "xuCQeOLcByIk",
        "outputId": "9ebe3c5d-5520-4d40-aec8-c76157a153ef"
      },
      "execution_count": 20,
      "outputs": [
        {
          "output_type": "stream",
          "name": "stdout",
          "text": [
            "[7, 9, 11, 21, 4, 28, 29]\n"
          ]
        },
        {
          "output_type": "execute_result",
          "data": {
            "text/plain": [
              "[2, 1]"
            ]
          },
          "metadata": {},
          "execution_count": 20
        }
      ]
    },
    {
      "cell_type": "code",
      "source": [
        "with open('idx_bc.pkl', 'wb') as fp:\n",
        "    pickle.dump(idx_bc, fp)"
      ],
      "metadata": {
        "id": "QfA-1zLxB6Jl"
      },
      "execution_count": 27,
      "outputs": []
    },
    {
      "cell_type": "code",
      "source": [
        "with open('idx_ir.pkl', 'wb') as fp:\n",
        "    pickle.dump(idx_ir, fp)"
      ],
      "metadata": {
        "id": "FPvdUIniFCeu"
      },
      "execution_count": 28,
      "outputs": []
    }
  ]
}