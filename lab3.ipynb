{
 "cells": [
  {
   "cell_type": "code",
   "execution_count": 114,
   "id": "01c6d938-e047-4c17-baa1-01632778de4d",
   "metadata": {},
   "outputs": [
    {
     "data": {
      "text/plain": [
       "<AxesSubplot:xlabel='x', ylabel='y'>"
      ]
     },
     "execution_count": 114,
     "metadata": {},
     "output_type": "execute_result"
    },
    {
     "data": {
      "image/png": "[encoded data removed]",
      "text/plain": [
       "<Figure size 432x288 with 1 Axes>"
      ]
     },
     "metadata": {
      "needs_background": "light"
     },
     "output_type": "display_data"
    }
   ],
   "source": [
    "import numpy as np\n",
    "import pandas as pd\n",
    "size = 300\n",
    "X = np.random.rand(size)*5-2.5\n",
    "w4, w3, w2, w1, w0 = 1, 2, 1, -4, 2\n",
    "y = w4*(X**4) + w3*(X**3) + w2*(X**2) + w1*X + w0 + np.random.randn(size)*8-4 \n",
    "df = pd.DataFrame({'x': X, 'y': y}) \n",
    "df.to_csv('dane_do_regresji.csv',index=None)\n",
    "df.plot.scatter(x='x',y='y')"
   ]
  },
  {
   "cell_type": "code",
   "execution_count": 115,
   "id": "8d539882-a4a5-40c6-8c47-07abdce1a446",
   "metadata": {},
   "outputs": [],
   "source": [
    "from sklearn.model_selection import train_test_split\n",
    "X_train, X_test, y_train, y_test = train_test_split(X, y, test_size=0.2, random_state=42)"
   ]
  },
  {
   "cell_type": "code",
   "execution_count": 116,
   "id": "3bd295b6-ba3e-4443-8101-7d6945da5347",
   "metadata": {},
   "outputs": [],
   "source": [
    "X_train = X_train.reshape(-1,1)\n",
    "X_test = X_test.reshape(-1,1)"
   ]
  },
  {
   "cell_type": "code",
   "execution_count": 117,
   "id": "944b86bb-6dcc-4c4e-89c6-fdeef5e6034f",
   "metadata": {},
   "outputs": [
    {
     "data": {
      "text/plain": [
       "LinearRegression()"
      ]
     },
     "execution_count": 117,
     "metadata": {},
     "output_type": "execute_result"
    }
   ],
   "source": [
    "from sklearn.linear_model import LinearRegression\n",
    "lin_reg = LinearRegression()\n",
    "lin_reg.fit(X_train, y_train)"
   ]
  },
  {
   "cell_type": "code",
   "execution_count": 118,
   "id": "a618b322-31b6-429e-9573-86a1f03099bf",
   "metadata": {},
   "outputs": [
    {
     "name": "stdout",
     "output_type": "stream",
     "text": [
      "8.270330113571433 [4.79712796]\n"
     ]
    }
   ],
   "source": [
    "print(lin_reg.intercept_, lin_reg.coef_)"
   ]
  },
  {
   "cell_type": "code",
   "execution_count": 119,
   "id": "eaf6fbef-50f4-42cc-baea-2fd77b75c5d5",
   "metadata": {},
   "outputs": [],
   "source": [
    "y_pred_lin_regression_train = lin_reg.predict(X_train)"
   ]
  },
  {
   "cell_type": "code",
   "execution_count": 120,
   "id": "f0f77216-8fa0-4f19-8974-e40464a03f77",
   "metadata": {},
   "outputs": [],
   "source": [
    "y_pred_linear_regression_test = lin_reg.predict(X_test)"
   ]
  },
  {
   "cell_type": "code",
   "execution_count": 121,
   "id": "1556a494-b626-406a-8dd0-c55016d94e13",
   "metadata": {},
   "outputs": [],
   "source": [
    "from sklearn.metrics import mean_squared_error"
   ]
  },
  {
   "cell_type": "code",
   "execution_count": 122,
   "id": "a9ce146b-7eef-4180-aa0e-72d2005bff44",
   "metadata": {},
   "outputs": [
    {
     "name": "stdout",
     "output_type": "stream",
     "text": [
      "273.9763433357214\n"
     ]
    }
   ],
   "source": [
    "train_mse_lin = mean_squared_error(y_train,y_pred_lin_regression_train)\n",
    "print(train_mse_lin)"
   ]
  },
  {
   "cell_type": "code",
   "execution_count": 123,
   "id": "c6ddfdb8-4042-4df0-be91-cb2daa8d154b",
   "metadata": {},
   "outputs": [],
   "source": [
    "test_mse_lin = mean_squared_error(y_test,y_pred_linear_regression_test)"
   ]
  },
  {
   "cell_type": "code",
   "execution_count": 124,
   "id": "5fdbc8ed-8b70-43e3-b77f-662ee2461dd5",
   "metadata": {},
   "outputs": [
    {
     "name": "stdout",
     "output_type": "stream",
     "text": [
      "220.72970197332538\n"
     ]
    }
   ],
   "source": [
    "print(test_mse_lin)"
   ]
  },
  {
   "cell_type": "code",
   "execution_count": 125,
   "id": "1d93632b-cf70-4fc6-bf7b-8308f770a6fe",
   "metadata": {},
   "outputs": [],
   "source": [
    "import sklearn.neighbors"
   ]
  },
  {
   "cell_type": "code",
   "execution_count": 126,
   "id": "5cc4e292-9a2a-42f2-b243-8a322064d9ce",
   "metadata": {},
   "outputs": [
    {
     "data": {
      "text/plain": [
       "KNeighborsRegressor(n_neighbors=3)"
      ]
     },
     "execution_count": 126,
     "metadata": {},
     "output_type": "execute_result"
    }
   ],
   "source": [
    "knn_3_reg = sklearn.neighbors.KNeighborsRegressor(n_neighbors=3)\n",
    "knn_3_reg.fit(X_train, y_train)"
   ]
  },
  {
   "cell_type": "code",
   "execution_count": 127,
   "id": "3aa10a85-cc5a-4fb4-8cc0-0e3ffc836791",
   "metadata": {},
   "outputs": [],
   "source": [
    "y_pred_knn_3_train = knn_3_reg.predict(X_train)\n",
    "y_pred_knn_3_test = knn_3_reg.predict(X_test)"
   ]
  },
  {
   "cell_type": "code",
   "execution_count": 128,
   "id": "0f0a74aa-41af-4d26-b8e1-50c25b5648dd",
   "metadata": {},
   "outputs": [
    {
     "name": "stdout",
     "output_type": "stream",
     "text": [
      "42.10291175301401\n",
      "90.02783064286213\n"
     ]
    }
   ],
   "source": [
    "train_mse_knn_3 = mean_squared_error(y_train, y_pred_knn_3_train)\n",
    "print(train_mse_knn_3)\n",
    "test_mse_knn_3 = mean_squared_error(y_test, y_pred_knn_3_test)\n",
    "print(test_mse_knn_3)"
   ]
  },
  {
   "cell_type": "code",
   "execution_count": null,
   "id": "b79702ca-af35-43a2-858c-30c94fe2a9fc",
   "metadata": {},
   "outputs": [],
   "source": []
  },
  {
   "cell_type": "code",
   "execution_count": null,
   "id": "760c35da-0210-4edb-978a-c1c165eab69f",
   "metadata": {},
   "outputs": [],
   "source": []
  },
  {
   "cell_type": "code",
   "execution_count": null,
   "id": "a191983b-cd36-43a3-9ca5-e5f1cad941fa",
   "metadata": {},
   "outputs": [],
   "source": []
  },
  {
   "cell_type": "code",
   "execution_count": 129,
   "id": "de09ebcd-3129-429f-be1f-7288a16dbf40",
   "metadata": {},
   "outputs": [
    {
     "data": {
      "text/plain": [
       "KNeighborsRegressor()"
      ]
     },
     "execution_count": 129,
     "metadata": {},
     "output_type": "execute_result"
    }
   ],
   "source": [
    "knn_5_reg = sklearn.neighbors.KNeighborsRegressor(n_neighbors = 5)\n",
    "knn_5_reg.fit(X_train, y_train)"
   ]
  },
  {
   "cell_type": "code",
   "execution_count": 130,
   "id": "7f9a605c-0a51-49bb-9700-c6ca401c6f90",
   "metadata": {},
   "outputs": [],
   "source": [
    "y_pred_knn_5_train =knn_5_reg.predict(X_train)\n",
    "y_pred_knn_5_test = knn_5_reg.predict(X_test)"
   ]
  },
  {
   "cell_type": "code",
   "execution_count": 131,
   "id": "2a1eacbc-c39b-45cb-8742-58aa66268450",
   "metadata": {},
   "outputs": [
    {
     "name": "stdout",
     "output_type": "stream",
     "text": [
      "50.13812885491061\n",
      "83.18654565192826\n"
     ]
    }
   ],
   "source": [
    "train_mse_knn_5 = mean_squared_error(y_train, y_pred_knn_5_train)\n",
    "print(train_mse_knn_5)\n",
    "test_mse_knn_5 = mean_squared_error(y_test, y_pred_knn_5_test)\n",
    "print(test_mse_knn_5)"
   ]
  },
  {
   "cell_type": "code",
   "execution_count": null,
   "id": "c3ab4e17-6768-40e8-b714-19e430367833",
   "metadata": {},
   "outputs": [],
   "source": []
  },
  {
   "cell_type": "code",
   "execution_count": null,
   "id": "f6d0d17c-dc7f-438c-80c3-91eb2601c628",
   "metadata": {},
   "outputs": [],
   "source": []
  },
  {
   "cell_type": "code",
   "execution_count": null,
   "id": "177ed168-6e95-4309-bbe5-8f622b4ad978",
   "metadata": {},
   "outputs": [],
   "source": []
  },
  {
   "cell_type": "code",
   "execution_count": 132,
   "id": "c25c7113-46da-4352-9ff4-d171cd290ab5",
   "metadata": {},
   "outputs": [
    {
     "data": {
      "text/plain": [
       "LinearRegression()"
      ]
     },
     "execution_count": 132,
     "metadata": {},
     "output_type": "execute_result"
    }
   ],
   "source": [
    "from sklearn.preprocessing import PolynomialFeatures\n",
    "poly_feature_2 = PolynomialFeatures(degree = 2, include_bias = False)\n",
    "X_2_poly_train = poly_feature_2.fit_transform(X_train)\n",
    "X_2_poly_test = poly_feature_2.fit_transform(X_test)\n",
    "poly_2_reg = LinearRegression()\n",
    "poly_2_reg.fit(X_2_poly_train, y_train)"
   ]
  },
  {
   "cell_type": "code",
   "execution_count": 133,
   "id": "db3349cc-fd48-4ca1-abdf-1128bb47db2f",
   "metadata": {},
   "outputs": [],
   "source": [
    "y_pred_poly_2_train = poly_2_reg.predict(X_2_poly_train)\n",
    "y_pred_poly_2_test = poly_2_reg.predict(X_2_poly_test)"
   ]
  },
  {
   "cell_type": "code",
   "execution_count": 134,
   "id": "8ae7c604-1fe6-4599-98b0-844a47e73505",
   "metadata": {},
   "outputs": [],
   "source": [
    "train_mse_poly_2 = mean_squared_error(y_train, y_pred_poly_2_train)\n",
    "test_mse_poly_2 = mean_squared_error(y_test, y_pred_poly_2_test)"
   ]
  },
  {
   "cell_type": "code",
   "execution_count": null,
   "id": "31e59a26-85ab-462b-a7df-7468aca5072b",
   "metadata": {},
   "outputs": [],
   "source": []
  },
  {
   "cell_type": "code",
   "execution_count": null,
   "id": "b69b71c9-c005-4b08-b87e-3c77e521cefe",
   "metadata": {},
   "outputs": [],
   "source": []
  },
  {
   "cell_type": "code",
   "execution_count": null,
   "id": "e29c42ae-2d4c-4757-939f-f5be6f1de823",
   "metadata": {},
   "outputs": [],
   "source": []
  },
  {
   "cell_type": "code",
   "execution_count": 135,
   "id": "c92a2c52-88b7-43b0-9ab3-97fdb4853e1e",
   "metadata": {},
   "outputs": [
    {
     "data": {
      "text/plain": [
       "LinearRegression()"
      ]
     },
     "execution_count": 135,
     "metadata": {},
     "output_type": "execute_result"
    }
   ],
   "source": [
    "poly_feature_3 = PolynomialFeatures(degree = 3, include_bias = False)\n",
    "X_3_poly_train = poly_feature_3.fit_transform(X_train)\n",
    "X_3_poly_test = poly_feature_3.fit_transform(X_test)\n",
    "poly_3_reg = LinearRegression()\n",
    "poly_3_reg.fit(X_3_poly_train, y_train)"
   ]
  },
  {
   "cell_type": "code",
   "execution_count": 136,
   "id": "078d15d6-1270-44ff-97df-4ac243eb9632",
   "metadata": {},
   "outputs": [],
   "source": [
    "y_pred_poly_3_train = poly_3_reg.predict(X_3_poly_train)\n",
    "y_pred_poly_3_test = poly_3_reg.predict(X_3_poly_test)"
   ]
  },
  {
   "cell_type": "code",
   "execution_count": 137,
   "id": "f5796a96-28d7-4950-887b-b6ab984c8ba3",
   "metadata": {},
   "outputs": [],
   "source": [
    "train_mse_poly_3 = mean_squared_error(y_train, y_pred_poly_3_train)\n",
    "test_mse_poly_3 = mean_squared_error(y_test, y_pred_poly_3_test)\n"
   ]
  },
  {
   "cell_type": "code",
   "execution_count": null,
   "id": "c6320bda-527c-48db-adbb-7e48de418fd9",
   "metadata": {},
   "outputs": [],
   "source": []
  },
  {
   "cell_type": "code",
   "execution_count": null,
   "id": "c1670282-607a-4a02-a0cd-fcab05229177",
   "metadata": {},
   "outputs": [],
   "source": []
  },
  {
   "cell_type": "code",
   "execution_count": null,
   "id": "92a287b4-ed20-4220-8c39-cde4fbc0cc79",
   "metadata": {},
   "outputs": [],
   "source": []
  },
  {
   "cell_type": "code",
   "execution_count": 138,
   "id": "ebc03077-641a-4226-9448-bc2c1701d32d",
   "metadata": {},
   "outputs": [
    {
     "data": {
      "text/plain": [
       "LinearRegression()"
      ]
     },
     "execution_count": 138,
     "metadata": {},
     "output_type": "execute_result"
    }
   ],
   "source": [
    "poly_feature_4 = PolynomialFeatures(degree = 4, include_bias = False)\n",
    "X_4_poly_train = poly_feature_4.fit_transform(X_train)\n",
    "X_4_poly_test = poly_feature_4.fit_transform(X_test)\n",
    "poly_4_reg = LinearRegression()\n",
    "poly_4_reg.fit(X_4_poly_train, y_train)"
   ]
  },
  {
   "cell_type": "code",
   "execution_count": 139,
   "id": "aa5820a6-748b-4aee-a1a0-4c87b2024481",
   "metadata": {},
   "outputs": [],
   "source": [
    "y_pred_poly_4_train = poly_4_reg.predict(X_4_poly_train)\n",
    "y_pred_poly_4_test = poly_4_reg.predict(X_4_poly_test)"
   ]
  },
  {
   "cell_type": "code",
   "execution_count": 140,
   "id": "7bb6fefb-2722-4fe6-998b-41bfe1c807d8",
   "metadata": {},
   "outputs": [],
   "source": [
    "train_mse_poly_4 = mean_squared_error(y_train, y_pred_poly_4_train)\n",
    "test_mse_poly_4 = mean_squared_error(y_test, y_pred_poly_4_test)"
   ]
  },
  {
   "cell_type": "code",
   "execution_count": null,
   "id": "eb2ab0dc-2cb1-4231-bc7c-3ed1d7a4fbd7",
   "metadata": {},
   "outputs": [],
   "source": []
  },
  {
   "cell_type": "code",
   "execution_count": null,
   "id": "9ec3ecc6-c247-4650-97ab-abfd926790e3",
   "metadata": {},
   "outputs": [],
   "source": []
  },
  {
   "cell_type": "code",
   "execution_count": null,
   "id": "e8507b69-da44-4004-9d89-a1a75ed06eca",
   "metadata": {},
   "outputs": [],
   "source": []
  },
  {
   "cell_type": "code",
   "execution_count": 141,
   "id": "ad564d5c-e73a-4a2b-82cc-f20ea88e3a04",
   "metadata": {},
   "outputs": [
    {
     "data": {
      "text/plain": [
       "LinearRegression()"
      ]
     },
     "execution_count": 141,
     "metadata": {},
     "output_type": "execute_result"
    }
   ],
   "source": [
    "poly_feature_5 = PolynomialFeatures(degree = 5, include_bias = False)\n",
    "\n",
    "X_5_poly_train = poly_feature_5.fit_transform(X_train)\n",
    "X_5_poly_test = poly_feature_5.fit_transform(X_test)\n",
    "\n",
    "poly_5_reg = LinearRegression()\n",
    "poly_5_reg.fit(X_5_poly_train, y_train)"
   ]
  },
  {
   "cell_type": "code",
   "execution_count": 142,
   "id": "7a6dbca5-53ee-4e66-ac6e-024625f4d636",
   "metadata": {},
   "outputs": [],
   "source": [
    "y_pred_poly_5_train =poly_5_reg.predict(X_5_poly_train)\n",
    "y_pred_poly_5_test = poly_5_reg.predict(X_5_poly_test)"
   ]
  },
  {
   "cell_type": "code",
   "execution_count": 143,
   "id": "5e9691d5-71f3-4c1e-b471-8df2a071b531",
   "metadata": {},
   "outputs": [],
   "source": [
    "train_mse_poly_5 = mean_squared_error(y_train, y_pred_poly_5_train)\n",
    "test_mse_poly_5 = mean_squared_error(y_test, y_pred_poly_5_test)"
   ]
  },
  {
   "cell_type": "code",
   "execution_count": null,
   "id": "b1dee5e0-0f93-49bd-a1ba-cd693a3675b3",
   "metadata": {},
   "outputs": [],
   "source": []
  },
  {
   "cell_type": "code",
   "execution_count": null,
   "id": "b23da305-b79b-4804-ac93-c866d6077204",
   "metadata": {},
   "outputs": [],
   "source": []
  },
  {
   "cell_type": "code",
   "execution_count": 144,
   "id": "d03dd328-6531-4329-aee8-221cf33804be",
   "metadata": {},
   "outputs": [],
   "source": [
    "mse = [ [train_mse_lin, test_mse_lin], [train_mse_knn_3, test_mse_knn_3], [train_mse_knn_5, test_mse_knn_5], [train_mse_poly_2, test_mse_poly_2], [train_mse_poly_3, test_mse_poly_3], [train_mse_poly_4, test_mse_poly_4], [train_mse_poly_5, test_mse_poly_5]]"
   ]
  },
  {
   "cell_type": "code",
   "execution_count": 145,
   "id": "0ca5bb4a-7bc9-4285-a00e-cfcf3b21ad38",
   "metadata": {},
   "outputs": [
    {
     "data": {
      "text/html": [
       "<div>\n",
       "<style scoped>\n",
       "    .dataframe tbody tr th:only-of-type {\n",
       "        vertical-align: middle;\n",
       "    }\n",
       "\n",
       "    .dataframe tbody tr th {\n",
       "        vertical-align: top;\n",
       "    }\n",
       "\n",
       "    .dataframe thead th {\n",
       "        text-align: right;\n",
       "    }\n",
       "</style>\n",
       "<table border=\"1\" class=\"dataframe\">\n",
       "  <thead>\n",
       "    <tr style=\"text-align: right;\">\n",
       "      <th></th>\n",
       "      <th>train_mse</th>\n",
       "      <th>test_mse</th>\n",
       "    </tr>\n",
       "  </thead>\n",
       "  <tbody>\n",
       "    <tr>\n",
       "      <th>lin_reg</th>\n",
       "      <td>273.976343</td>\n",
       "      <td>220.729702</td>\n",
       "    </tr>\n",
       "    <tr>\n",
       "      <th>knn_3_reg</th>\n",
       "      <td>42.102912</td>\n",
       "      <td>90.027831</td>\n",
       "    </tr>\n",
       "    <tr>\n",
       "      <th>knn_5_reg</th>\n",
       "      <td>50.138129</td>\n",
       "      <td>83.186546</td>\n",
       "    </tr>\n",
       "    <tr>\n",
       "      <th>poly_2_reg</th>\n",
       "      <td>99.895085</td>\n",
       "      <td>73.638789</td>\n",
       "    </tr>\n",
       "    <tr>\n",
       "      <th>poly_3_reg</th>\n",
       "      <td>73.756264</td>\n",
       "      <td>60.001924</td>\n",
       "    </tr>\n",
       "    <tr>\n",
       "      <th>poly_4_reg</th>\n",
       "      <td>64.357479</td>\n",
       "      <td>61.286266</td>\n",
       "    </tr>\n",
       "    <tr>\n",
       "      <th>poly_5_reg</th>\n",
       "      <td>63.948889</td>\n",
       "      <td>61.471757</td>\n",
       "    </tr>\n",
       "  </tbody>\n",
       "</table>\n",
       "</div>"
      ],
      "text/plain": [
       "             train_mse    test_mse\n",
       "lin_reg     273.976343  220.729702\n",
       "knn_3_reg    42.102912   90.027831\n",
       "knn_5_reg    50.138129   83.186546\n",
       "poly_2_reg   99.895085   73.638789\n",
       "poly_3_reg   73.756264   60.001924\n",
       "poly_4_reg   64.357479   61.286266\n",
       "poly_5_reg   63.948889   61.471757"
      ]
     },
     "execution_count": 145,
     "metadata": {},
     "output_type": "execute_result"
    }
   ],
   "source": [
    "df_mse = pd.DataFrame(mse, index=[\"lin_reg\", \"knn_3_reg\", \"knn_5_reg\", \"poly_2_reg\", \"poly_3_reg\", \"poly_4_reg\", \"poly_5_reg\"], columns = [\"train_mse\", \"test_mse\"])\n",
    "df_mse"
   ]
  },
  {
   "cell_type": "code",
   "execution_count": 147,
   "id": "b37e6cc2-22b9-4a0c-8381-33afdfe52797",
   "metadata": {},
   "outputs": [
    {
     "data": {
      "text/plain": [
       "[(LinearRegression(), None),\n",
       " (KNeighborsRegressor(n_neighbors=3), None),\n",
       " (KNeighborsRegressor(), None),\n",
       " (LinearRegression(), PolynomialFeatures(include_bias=False)),\n",
       " (LinearRegression(), PolynomialFeatures(degree=3, include_bias=False)),\n",
       " (LinearRegression(), PolynomialFeatures(degree=4, include_bias=False)),\n",
       " (LinearRegression(), PolynomialFeatures(degree=5, include_bias=False))]"
      ]
     },
     "execution_count": 147,
     "metadata": {},
     "output_type": "execute_result"
    }
   ],
   "source": [
    "reg = [(lin_reg, None), (knn_3_reg, None), (knn_5_reg, None), (poly_2_reg, poly_feature_2), (poly_3_reg, poly_feature_3), (poly_4_reg, poly_feature_4), (poly_5_reg, poly_feature_5)]\n",
    "reg"
   ]
  },
  {
   "cell_type": "code",
   "execution_count": 148,
   "id": "13362e41-1295-4375-a4d4-4f197ebd8426",
   "metadata": {},
   "outputs": [],
   "source": [
    "import pickle\n",
    "with open('mse.pkl', 'wb') as f:\n",
    "    pickle.dump(df_mse, f)"
   ]
  },
  {
   "cell_type": "code",
   "execution_count": 149,
   "id": "3143c77d-0552-40d8-871f-b03343eafe05",
   "metadata": {},
   "outputs": [],
   "source": [
    "import pickle\n",
    "with open('reg.pkl', 'wb') as f:\n",
    "    pickle.dump(reg, f)"
   ]
  },
  {
   "cell_type": "code",
   "execution_count": null,
   "id": "97df27ee-6a63-4324-b51c-418ac3260242",
   "metadata": {},
   "outputs": [],
   "source": []
  }
 ],
 "metadata": {
  "kernelspec": {
   "display_name": "Python 3 (ipykernel)",
   "language": "python",
   "name": "python3"
  },
  "language_info": {
   "codemirror_mode": {
    "name": "ipython",
    "version": 3
   },
   "file_extension": ".py",
   "mimetype": "text/x-python",
   "name": "python",
   "nbconvert_exporter": "python",
   "pygments_lexer": "ipython3",
   "version": "3.8.6"
  }
 },
 "nbformat": 4,
 "nbformat_minor": 5
}
